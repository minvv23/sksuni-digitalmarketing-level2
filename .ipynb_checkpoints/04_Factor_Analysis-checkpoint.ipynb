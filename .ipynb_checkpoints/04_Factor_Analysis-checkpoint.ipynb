{
 "cells": [
  {
   "cell_type": "code",
   "execution_count": 1,
   "metadata": {},
   "outputs": [
    {
     "data": {
      "text/plain": [
       "<Figure size 432x288 with 0 Axes>"
      ]
     },
     "metadata": {},
     "output_type": "display_data"
    }
   ],
   "source": [
    "import numpy as np # 수치연산 관련 패키지\n",
    "import pandas as pd # DataFrame을 다루는 데이터 전처리 패키지\n",
    "from scipy import stats # statistics tools\n",
    "import statsmodels.api as sm # linear models\n",
    "import matplotlib.pyplot as plt # 기본 시각화 패키지\n",
    "import seaborn as sns # 고급(?) 시각화 패키지 - R의 ggplot 같은겁니다.\n",
    "\n",
    "# Seaborn 시각화 환경 세팅\n",
    "sns.set_theme(style='white',\n",
    "              rc = {'axes.unicode_minus': False,\n",
    "                    'axes.spines.top':False,\n",
    "                    'axes.spines.right':False,\n",
    "                    'font.family':'NanumGothic', #폰트이름 (ex. AppleGothic)\n",
    "                    'font.weight':'normal'})\n",
    "sns.despine(left=True, bottom=True)\n",
    "sns.set_palette('tab10')"
   ]
  },
  {
   "cell_type": "code",
   "execution_count": 2,
   "metadata": {},
   "outputs": [],
   "source": [
    "from factor_analyzer import FactorAnalyzer\n",
    "from factor_analyzer.factor_analyzer import calculate_bartlett_sphericity, calculate_kmo"
   ]
  },
  {
   "cell_type": "code",
   "execution_count": 3,
   "metadata": {},
   "outputs": [
    {
     "name": "stdout",
     "output_type": "stream",
     "text": [
      "Kaiser-Meyer-Olkin(KMO) Test : 0.6880780768490312\n",
      "Bartlett’s test p-value : 9.187012468820016e-17\n"
     ]
    }
   ],
   "source": [
    "df = pd.read_csv('./data/L7_factor_analysis.csv')\n",
    "print('Kaiser-Meyer-Olkin(KMO) Test :', calculate_kmo(df)[1]) # recommended to be above .6\n",
    "print('Bartlett’s test p-value :', calculate_bartlett_sphericity(df)[1]) # should be rejected"
   ]
  },
  {
   "cell_type": "code",
   "execution_count": 4,
   "metadata": {},
   "outputs": [
    {
     "data": {
      "image/png": "[encoded data removed]",
      "text/plain": [
       "<Figure size 432x288 with 1 Axes>"
      ]
     },
     "metadata": {},
     "output_type": "display_data"
    }
   ],
   "source": [
    "fa = FactorAnalyzer(n_factors=5, rotation=None)\n",
    "fa.fit(df)\n",
    "ev, v = fa.get_eigenvalues()\n",
    "\n",
    "fig = sns.lineplot(x=range(1, len(ev)+1), y=ev)\n",
    "fig.set(title='Scree Plot', xlabel='Number of Factors', ylabel='Eigenvalue')\n",
    "plt.axvline(2, color=[.6,.6,.6], linestyle='--')\n",
    "plt.show()"
   ]
  },
  {
   "cell_type": "code",
   "execution_count": 6,
   "metadata": {},
   "outputs": [
    {
     "data": {
      "text/html": [
       "<div>\n",
       "<style scoped>\n",
       "    .dataframe tbody tr th:only-of-type {\n",
       "        vertical-align: middle;\n",
       "    }\n",
       "\n",
       "    .dataframe tbody tr th {\n",
       "        vertical-align: top;\n",
       "    }\n",
       "\n",
       "    .dataframe thead th {\n",
       "        text-align: right;\n",
       "    }\n",
       "</style>\n",
       "<table border=\"1\" class=\"dataframe\">\n",
       "  <thead>\n",
       "    <tr style=\"text-align: right;\">\n",
       "      <th></th>\n",
       "      <th>Factor #0</th>\n",
       "      <th>Factor #1</th>\n",
       "    </tr>\n",
       "  </thead>\n",
       "  <tbody>\n",
       "    <tr>\n",
       "      <th>SS Loadings</th>\n",
       "      <td>3.138928</td>\n",
       "      <td>2.515386</td>\n",
       "    </tr>\n",
       "    <tr>\n",
       "      <th>Proportion Var</th>\n",
       "      <td>0.448418</td>\n",
       "      <td>0.359341</td>\n",
       "    </tr>\n",
       "    <tr>\n",
       "      <th>Cumulative Var</th>\n",
       "      <td>0.448418</td>\n",
       "      <td>0.807759</td>\n",
       "    </tr>\n",
       "  </tbody>\n",
       "</table>\n",
       "</div>"
      ],
      "text/plain": [
       "                Factor #0  Factor #1\n",
       "SS Loadings      3.138928   2.515386\n",
       "Proportion Var   0.448418   0.359341\n",
       "Cumulative Var   0.448418   0.807759"
      ]
     },
     "execution_count": 6,
     "metadata": {},
     "output_type": "execute_result"
    }
   ],
   "source": [
    "var_fa = FactorAnalyzer(n_factors=2, rotation='varimax')\n",
    "var_fa.fit(df)\n",
    "\n",
    "variancedf = pd.DataFrame(var_fa.get_factor_variance())\n",
    "variancedf.columns = 'Factor #'+pd.Series(variancedf.columns).astype(str)\n",
    "variancedf.index = ['SS Loadings', 'Proportion Var', 'Cumulative Var']\n",
    "variancedf"
   ]
  },
  {
   "cell_type": "code",
   "execution_count": 7,
   "metadata": {},
   "outputs": [
    {
     "data": {
      "text/html": [
       "<div>\n",
       "<style scoped>\n",
       "    .dataframe tbody tr th:only-of-type {\n",
       "        vertical-align: middle;\n",
       "    }\n",
       "\n",
       "    .dataframe tbody tr th {\n",
       "        vertical-align: top;\n",
       "    }\n",
       "\n",
       "    .dataframe thead th {\n",
       "        text-align: right;\n",
       "    }\n",
       "</style>\n",
       "<table border=\"1\" class=\"dataframe\">\n",
       "  <thead>\n",
       "    <tr style=\"text-align: right;\">\n",
       "      <th></th>\n",
       "      <th>Factor #0</th>\n",
       "      <th>Factor #1</th>\n",
       "    </tr>\n",
       "  </thead>\n",
       "  <tbody>\n",
       "    <tr>\n",
       "      <th>GMAT</th>\n",
       "      <td>0.954243</td>\n",
       "      <td>0.198296</td>\n",
       "    </tr>\n",
       "    <tr>\n",
       "      <th>GPA</th>\n",
       "      <td>0.958118</td>\n",
       "      <td>-0.038656</td>\n",
       "    </tr>\n",
       "    <tr>\n",
       "      <th>Fellow</th>\n",
       "      <td>0.928620</td>\n",
       "      <td>0.000358</td>\n",
       "    </tr>\n",
       "    <tr>\n",
       "      <th>Comm</th>\n",
       "      <td>0.645709</td>\n",
       "      <td>0.523721</td>\n",
       "    </tr>\n",
       "    <tr>\n",
       "      <th>JobEx</th>\n",
       "      <td>0.173888</td>\n",
       "      <td>0.969930</td>\n",
       "    </tr>\n",
       "    <tr>\n",
       "      <th>Organze</th>\n",
       "      <td>0.019069</td>\n",
       "      <td>0.827708</td>\n",
       "    </tr>\n",
       "    <tr>\n",
       "      <th>Extra</th>\n",
       "      <td>0.021910</td>\n",
       "      <td>0.757906</td>\n",
       "    </tr>\n",
       "  </tbody>\n",
       "</table>\n",
       "</div>"
      ],
      "text/plain": [
       "         Factor #0  Factor #1\n",
       "GMAT      0.954243   0.198296\n",
       "GPA       0.958118  -0.038656\n",
       "Fellow    0.928620   0.000358\n",
       "Comm      0.645709   0.523721\n",
       "JobEx     0.173888   0.969930\n",
       "Organze   0.019069   0.827708\n",
       "Extra     0.021910   0.757906"
      ]
     },
     "execution_count": 7,
     "metadata": {},
     "output_type": "execute_result"
    }
   ],
   "source": [
    "loadingsdf = pd.DataFrame(var_fa.loadings_)\n",
    "loadingsdf.columns = 'Factor #'+pd.Series(loadingsdf.columns).astype(str)\n",
    "loadingsdf.index = df.columns\n",
    "loadingsdf"
   ]
  },
  {
   "cell_type": "code",
   "execution_count": 8,
   "metadata": {},
   "outputs": [
    {
     "data": {
      "text/html": [
       "<div>\n",
       "<style scoped>\n",
       "    .dataframe tbody tr th:only-of-type {\n",
       "        vertical-align: middle;\n",
       "    }\n",
       "\n",
       "    .dataframe tbody tr th {\n",
       "        vertical-align: top;\n",
       "    }\n",
       "\n",
       "    .dataframe thead th {\n",
       "        text-align: right;\n",
       "    }\n",
       "</style>\n",
       "<table border=\"1\" class=\"dataframe\">\n",
       "  <thead>\n",
       "    <tr style=\"text-align: right;\">\n",
       "      <th></th>\n",
       "      <th>variable</th>\n",
       "      <th>Factor #0</th>\n",
       "      <th>Factor #1</th>\n",
       "    </tr>\n",
       "  </thead>\n",
       "  <tbody>\n",
       "    <tr>\n",
       "      <th>0</th>\n",
       "      <td>GMAT</td>\n",
       "      <td>0.954243</td>\n",
       "      <td>0.198296</td>\n",
       "    </tr>\n",
       "    <tr>\n",
       "      <th>1</th>\n",
       "      <td>GPA</td>\n",
       "      <td>0.958118</td>\n",
       "      <td>-0.038656</td>\n",
       "    </tr>\n",
       "    <tr>\n",
       "      <th>2</th>\n",
       "      <td>Fellow</td>\n",
       "      <td>0.928620</td>\n",
       "      <td>0.000358</td>\n",
       "    </tr>\n",
       "    <tr>\n",
       "      <th>3</th>\n",
       "      <td>Comm</td>\n",
       "      <td>0.645709</td>\n",
       "      <td>0.523721</td>\n",
       "    </tr>\n",
       "    <tr>\n",
       "      <th>4</th>\n",
       "      <td>JobEx</td>\n",
       "      <td>0.173888</td>\n",
       "      <td>0.969930</td>\n",
       "    </tr>\n",
       "    <tr>\n",
       "      <th>5</th>\n",
       "      <td>Organze</td>\n",
       "      <td>0.019069</td>\n",
       "      <td>0.827708</td>\n",
       "    </tr>\n",
       "    <tr>\n",
       "      <th>6</th>\n",
       "      <td>Extra</td>\n",
       "      <td>0.021910</td>\n",
       "      <td>0.757906</td>\n",
       "    </tr>\n",
       "  </tbody>\n",
       "</table>\n",
       "</div>"
      ],
      "text/plain": [
       "  variable  Factor #0  Factor #1\n",
       "0     GMAT   0.954243   0.198296\n",
       "1      GPA   0.958118  -0.038656\n",
       "2   Fellow   0.928620   0.000358\n",
       "3     Comm   0.645709   0.523721\n",
       "4    JobEx   0.173888   0.969930\n",
       "5  Organze   0.019069   0.827708\n",
       "6    Extra   0.021910   0.757906"
      ]
     },
     "execution_count": 8,
     "metadata": {},
     "output_type": "execute_result"
    }
   ],
   "source": [
    "vizdf = loadingsdf.reset_index().rename({'index':'variable'}, axis=1)\n",
    "vizdf"
   ]
  },
  {
   "cell_type": "code",
   "execution_count": 9,
   "metadata": {},
   "outputs": [
    {
     "data": {
      "image/png": "[encoded data removed]",
      "text/plain": [
       "<Figure size 432x288 with 1 Axes>"
      ]
     },
     "metadata": {},
     "output_type": "display_data"
    }
   ],
   "source": [
    "fig = sns.scatterplot(x='Factor #0', y='Factor #1', data=vizdf)\n",
    "for row in vizdf.to_dict(orient='records'):\n",
    "     fig.text(row['Factor #0']+0.01, row['Factor #1']+.02, \n",
    "     row['variable'], horizontalalignment='left', \n",
    "     size='medium', color='black')\n",
    "plt.show()"
   ]
  }
 ],
 "metadata": {
  "kernelspec": {
   "display_name": "Python 3",
   "language": "python",
   "name": "python3"
  },
  "language_info": {
   "codemirror_mode": {
    "name": "ipython",
    "version": 3
   },
   "file_extension": ".py",
   "mimetype": "text/x-python",
   "name": "python",
   "nbconvert_exporter": "python",
   "pygments_lexer": "ipython3",
   "version": "3.8.5"
  }
 },
 "nbformat": 4,
 "nbformat_minor": 4
}
