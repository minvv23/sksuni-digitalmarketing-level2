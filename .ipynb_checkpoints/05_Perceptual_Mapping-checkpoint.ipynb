{
 "cells": [
  {
   "cell_type": "code",
   "execution_count": 1,
   "metadata": {},
   "outputs": [
    {
     "data": {
      "text/plain": [
       "<Figure size 432x288 with 0 Axes>"
      ]
     },
     "metadata": {},
     "output_type": "display_data"
    }
   ],
   "source": [
    "import numpy as np # 수치연산 관련 패키지\n",
    "import pandas as pd # DataFrame을 다루는 데이터 전처리 패키지\n",
    "from scipy import stats # statistics tools\n",
    "import statsmodels.api as sm # linear models\n",
    "import matplotlib.pyplot as plt # 기본 시각화 패키지\n",
    "import seaborn as sns # 고급(?) 시각화 패키지 - R의 ggplot 같은겁니다.\n",
    "\n",
    "# Seaborn 시각화 환경 세팅\n",
    "sns.set_theme(style='white',\n",
    "              rc = {'axes.unicode_minus': False,\n",
    "                    'axes.spines.top':False,\n",
    "                    'axes.spines.right':False,\n",
    "                    'axes.titlesize':13,\n",
    "                    'axes.titleweight':'semibold',\n",
    "                    'font.family':'NanumSquare', #폰트이름 (ex. AppleGothic)\n",
    "                    'font.weight':'normal'})\n",
    "sns.despine(left=True, bottom=True)\n",
    "sns.set_palette('tab10')"
   ]
  },
  {
   "cell_type": "code",
   "execution_count": 2,
   "metadata": {},
   "outputs": [],
   "source": [
    "from factor_analyzer import FactorAnalyzer\n",
    "from factor_analyzer.factor_analyzer import calculate_bartlett_sphericity, calculate_kmo"
   ]
  },
  {
   "cell_type": "code",
   "execution_count": 3,
   "metadata": {},
   "outputs": [
    {
     "data": {
      "text/html": [
       "<div>\n",
       "<style scoped>\n",
       "    .dataframe tbody tr th:only-of-type {\n",
       "        vertical-align: middle;\n",
       "    }\n",
       "\n",
       "    .dataframe tbody tr th {\n",
       "        vertical-align: top;\n",
       "    }\n",
       "\n",
       "    .dataframe thead th {\n",
       "        text-align: right;\n",
       "    }\n",
       "</style>\n",
       "<table border=\"1\" class=\"dataframe\">\n",
       "  <thead>\n",
       "    <tr style=\"text-align: right;\">\n",
       "      <th></th>\n",
       "      <th>Afford</th>\n",
       "      <th>Practical</th>\n",
       "      <th>Class</th>\n",
       "      <th>Sporty</th>\n",
       "      <th>YouthApp</th>\n",
       "      <th>Fun</th>\n",
       "    </tr>\n",
       "  </thead>\n",
       "  <tbody>\n",
       "    <tr>\n",
       "      <th>0</th>\n",
       "      <td>4</td>\n",
       "      <td>6</td>\n",
       "      <td>4</td>\n",
       "      <td>3</td>\n",
       "      <td>2</td>\n",
       "      <td>2</td>\n",
       "    </tr>\n",
       "    <tr>\n",
       "      <th>1</th>\n",
       "      <td>7</td>\n",
       "      <td>5</td>\n",
       "      <td>2</td>\n",
       "      <td>5</td>\n",
       "      <td>6</td>\n",
       "      <td>6</td>\n",
       "    </tr>\n",
       "    <tr>\n",
       "      <th>2</th>\n",
       "      <td>4</td>\n",
       "      <td>6</td>\n",
       "      <td>4</td>\n",
       "      <td>2</td>\n",
       "      <td>3</td>\n",
       "      <td>2</td>\n",
       "    </tr>\n",
       "    <tr>\n",
       "      <th>3</th>\n",
       "      <td>3</td>\n",
       "      <td>5</td>\n",
       "      <td>6</td>\n",
       "      <td>5</td>\n",
       "      <td>4</td>\n",
       "      <td>5</td>\n",
       "    </tr>\n",
       "    <tr>\n",
       "      <th>4</th>\n",
       "      <td>2</td>\n",
       "      <td>4</td>\n",
       "      <td>7</td>\n",
       "      <td>6</td>\n",
       "      <td>4</td>\n",
       "      <td>6</td>\n",
       "    </tr>\n",
       "    <tr>\n",
       "      <th>...</th>\n",
       "      <td>...</td>\n",
       "      <td>...</td>\n",
       "      <td>...</td>\n",
       "      <td>...</td>\n",
       "      <td>...</td>\n",
       "      <td>...</td>\n",
       "    </tr>\n",
       "    <tr>\n",
       "      <th>115</th>\n",
       "      <td>7</td>\n",
       "      <td>2</td>\n",
       "      <td>3</td>\n",
       "      <td>5</td>\n",
       "      <td>5</td>\n",
       "      <td>6</td>\n",
       "    </tr>\n",
       "    <tr>\n",
       "      <th>116</th>\n",
       "      <td>5</td>\n",
       "      <td>6</td>\n",
       "      <td>3</td>\n",
       "      <td>2</td>\n",
       "      <td>2</td>\n",
       "      <td>3</td>\n",
       "    </tr>\n",
       "    <tr>\n",
       "      <th>117</th>\n",
       "      <td>1</td>\n",
       "      <td>4</td>\n",
       "      <td>7</td>\n",
       "      <td>6</td>\n",
       "      <td>3</td>\n",
       "      <td>6</td>\n",
       "    </tr>\n",
       "    <tr>\n",
       "      <th>118</th>\n",
       "      <td>1</td>\n",
       "      <td>4</td>\n",
       "      <td>6</td>\n",
       "      <td>6</td>\n",
       "      <td>3</td>\n",
       "      <td>7</td>\n",
       "    </tr>\n",
       "    <tr>\n",
       "      <th>119</th>\n",
       "      <td>6</td>\n",
       "      <td>7</td>\n",
       "      <td>2</td>\n",
       "      <td>2</td>\n",
       "      <td>3</td>\n",
       "      <td>4</td>\n",
       "    </tr>\n",
       "  </tbody>\n",
       "</table>\n",
       "<p>120 rows × 6 columns</p>\n",
       "</div>"
      ],
      "text/plain": [
       "     Afford  Practical  Class  Sporty  YouthApp  Fun\n",
       "0         4          6      4       3         2    2\n",
       "1         7          5      2       5         6    6\n",
       "2         4          6      4       2         3    2\n",
       "3         3          5      6       5         4    5\n",
       "4         2          4      7       6         4    6\n",
       "..      ...        ...    ...     ...       ...  ...\n",
       "115       7          2      3       5         5    6\n",
       "116       5          6      3       2         2    3\n",
       "117       1          4      7       6         3    6\n",
       "118       1          4      6       6         3    7\n",
       "119       6          7      2       2         3    4\n",
       "\n",
       "[120 rows x 6 columns]"
      ]
     },
     "execution_count": 3,
     "metadata": {},
     "output_type": "execute_result"
    }
   ],
   "source": [
    "rawdf = pd.read_csv('./data/L9_perceptual_mapping.csv')\n",
    "df = rawdf.loc[:,~rawdf.columns.isin(['Resp', 'Car', 'CarNo'])]\n",
    "df"
   ]
  },
  {
   "cell_type": "code",
   "execution_count": 4,
   "metadata": {},
   "outputs": [
    {
     "name": "stdout",
     "output_type": "stream",
     "text": [
      "Kaiser-Meyer-Olkin(KMO) Test : 0.706031084968715\n",
      "Bartlett’s test p-value : 3.3173600319152505e-122\n"
     ]
    }
   ],
   "source": [
    "print('Kaiser-Meyer-Olkin(KMO) Test :', calculate_kmo(df)[1]) # recommended to be above .6\n",
    "print('Bartlett’s test p-value :', calculate_bartlett_sphericity(df)[1]) # should be rejected"
   ]
  },
  {
   "cell_type": "code",
   "execution_count": 5,
   "metadata": {},
   "outputs": [
    {
     "data": {
      "image/png": "[encoded data removed]",
      "text/plain": [
       "<Figure size 432x288 with 1 Axes>"
      ]
     },
     "metadata": {},
     "output_type": "display_data"
    }
   ],
   "source": [
    "fa = FactorAnalyzer(n_factors=5, rotation=None)\n",
    "fa.fit(df)\n",
    "ev, v = fa.get_eigenvalues()\n",
    "\n",
    "fig = sns.lineplot(x=range(1, len(ev)+1), y=ev)\n",
    "fig.set(title='Scree Plot', xlabel='Number of Factors', ylabel='Eigenvalue')\n",
    "plt.axvline(2, color=[.6,.6,.6], linestyle='--')\n",
    "plt.show()"
   ]
  },
  {
   "cell_type": "code",
   "execution_count": 6,
   "metadata": {},
   "outputs": [
    {
     "data": {
      "text/html": [
       "<div>\n",
       "<style scoped>\n",
       "    .dataframe tbody tr th:only-of-type {\n",
       "        vertical-align: middle;\n",
       "    }\n",
       "\n",
       "    .dataframe tbody tr th {\n",
       "        vertical-align: top;\n",
       "    }\n",
       "\n",
       "    .dataframe thead th {\n",
       "        text-align: right;\n",
       "    }\n",
       "</style>\n",
       "<table border=\"1\" class=\"dataframe\">\n",
       "  <thead>\n",
       "    <tr style=\"text-align: right;\">\n",
       "      <th></th>\n",
       "      <th>Factor #0</th>\n",
       "      <th>Factor #1</th>\n",
       "    </tr>\n",
       "  </thead>\n",
       "  <tbody>\n",
       "    <tr>\n",
       "      <th>SS Loadings</th>\n",
       "      <td>2.909845</td>\n",
       "      <td>1.665065</td>\n",
       "    </tr>\n",
       "    <tr>\n",
       "      <th>Proportion Var</th>\n",
       "      <td>0.484974</td>\n",
       "      <td>0.277511</td>\n",
       "    </tr>\n",
       "    <tr>\n",
       "      <th>Cumulative Var</th>\n",
       "      <td>0.484974</td>\n",
       "      <td>0.762485</td>\n",
       "    </tr>\n",
       "  </tbody>\n",
       "</table>\n",
       "</div>"
      ],
      "text/plain": [
       "                Factor #0  Factor #1\n",
       "SS Loadings      2.909845   1.665065\n",
       "Proportion Var   0.484974   0.277511\n",
       "Cumulative Var   0.484974   0.762485"
      ]
     },
     "execution_count": 6,
     "metadata": {},
     "output_type": "execute_result"
    }
   ],
   "source": [
    "var_fa = FactorAnalyzer(n_factors=2, rotation='varimax')\n",
    "var_fa.fit(df)\n",
    "\n",
    "variancedf = pd.DataFrame(var_fa.get_factor_variance())\n",
    "variancedf.columns = 'Factor #'+pd.Series(variancedf.columns).astype(str)\n",
    "variancedf.index = ['SS Loadings', 'Proportion Var', 'Cumulative Var']\n",
    "variancedf"
   ]
  },
  {
   "cell_type": "code",
   "execution_count": 7,
   "metadata": {},
   "outputs": [
    {
     "data": {
      "text/html": [
       "<div>\n",
       "<style scoped>\n",
       "    .dataframe tbody tr th:only-of-type {\n",
       "        vertical-align: middle;\n",
       "    }\n",
       "\n",
       "    .dataframe tbody tr th {\n",
       "        vertical-align: top;\n",
       "    }\n",
       "\n",
       "    .dataframe thead th {\n",
       "        text-align: right;\n",
       "    }\n",
       "</style>\n",
       "<table border=\"1\" class=\"dataframe\">\n",
       "  <thead>\n",
       "    <tr style=\"text-align: right;\">\n",
       "      <th></th>\n",
       "      <th>Factor #0</th>\n",
       "      <th>Factor #1</th>\n",
       "    </tr>\n",
       "  </thead>\n",
       "  <tbody>\n",
       "    <tr>\n",
       "      <th>Afford</th>\n",
       "      <td>0.003602</td>\n",
       "      <td>-0.661212</td>\n",
       "    </tr>\n",
       "    <tr>\n",
       "      <th>Practical</th>\n",
       "      <td>-0.901151</td>\n",
       "      <td>-0.095790</td>\n",
       "    </tr>\n",
       "    <tr>\n",
       "      <th>Class</th>\n",
       "      <td>0.382512</td>\n",
       "      <td>0.924474</td>\n",
       "    </tr>\n",
       "    <tr>\n",
       "      <th>Sporty</th>\n",
       "      <td>0.823858</td>\n",
       "      <td>0.529687</td>\n",
       "    </tr>\n",
       "    <tr>\n",
       "      <th>YouthApp</th>\n",
       "      <td>0.778725</td>\n",
       "      <td>0.004209</td>\n",
       "    </tr>\n",
       "    <tr>\n",
       "      <th>Fun</th>\n",
       "      <td>0.816265</td>\n",
       "      <td>0.288876</td>\n",
       "    </tr>\n",
       "  </tbody>\n",
       "</table>\n",
       "</div>"
      ],
      "text/plain": [
       "           Factor #0  Factor #1\n",
       "Afford      0.003602  -0.661212\n",
       "Practical  -0.901151  -0.095790\n",
       "Class       0.382512   0.924474\n",
       "Sporty      0.823858   0.529687\n",
       "YouthApp    0.778725   0.004209\n",
       "Fun         0.816265   0.288876"
      ]
     },
     "execution_count": 7,
     "metadata": {},
     "output_type": "execute_result"
    }
   ],
   "source": [
    "loadingsdf = pd.DataFrame(var_fa.loadings_)\n",
    "loadingsdf.columns = 'Factor #'+pd.Series(loadingsdf.columns).astype(str)\n",
    "loadingsdf.index = df.columns\n",
    "loadingsdf"
   ]
  },
  {
   "cell_type": "code",
   "execution_count": 8,
   "metadata": {},
   "outputs": [
    {
     "data": {
      "text/html": [
       "<div>\n",
       "<style scoped>\n",
       "    .dataframe tbody tr th:only-of-type {\n",
       "        vertical-align: middle;\n",
       "    }\n",
       "\n",
       "    .dataframe tbody tr th {\n",
       "        vertical-align: top;\n",
       "    }\n",
       "\n",
       "    .dataframe thead th {\n",
       "        text-align: right;\n",
       "    }\n",
       "</style>\n",
       "<table border=\"1\" class=\"dataframe\">\n",
       "  <thead>\n",
       "    <tr style=\"text-align: right;\">\n",
       "      <th></th>\n",
       "      <th>Fashion</th>\n",
       "      <th>Prestige</th>\n",
       "    </tr>\n",
       "  </thead>\n",
       "  <tbody>\n",
       "    <tr>\n",
       "      <th>Afford</th>\n",
       "      <td>0.003602</td>\n",
       "      <td>-0.661212</td>\n",
       "    </tr>\n",
       "    <tr>\n",
       "      <th>Practical</th>\n",
       "      <td>-0.901151</td>\n",
       "      <td>-0.095790</td>\n",
       "    </tr>\n",
       "    <tr>\n",
       "      <th>Class</th>\n",
       "      <td>0.382512</td>\n",
       "      <td>0.924474</td>\n",
       "    </tr>\n",
       "    <tr>\n",
       "      <th>Sporty</th>\n",
       "      <td>0.823858</td>\n",
       "      <td>0.529687</td>\n",
       "    </tr>\n",
       "    <tr>\n",
       "      <th>YouthApp</th>\n",
       "      <td>0.778725</td>\n",
       "      <td>0.004209</td>\n",
       "    </tr>\n",
       "    <tr>\n",
       "      <th>Fun</th>\n",
       "      <td>0.816265</td>\n",
       "      <td>0.288876</td>\n",
       "    </tr>\n",
       "  </tbody>\n",
       "</table>\n",
       "</div>"
      ],
      "text/plain": [
       "            Fashion  Prestige\n",
       "Afford     0.003602 -0.661212\n",
       "Practical -0.901151 -0.095790\n",
       "Class      0.382512  0.924474\n",
       "Sporty     0.823858  0.529687\n",
       "YouthApp   0.778725  0.004209\n",
       "Fun        0.816265  0.288876"
      ]
     },
     "execution_count": 8,
     "metadata": {},
     "output_type": "execute_result"
    }
   ],
   "source": [
    "# Factor 이름을 바꿔보자\n",
    "loadingsdf.columns = ['Fashion', 'Prestige']\n",
    "loadingsdf"
   ]
  },
  {
   "cell_type": "code",
   "execution_count": 9,
   "metadata": {},
   "outputs": [
    {
     "data": {
      "image/png": "[encoded data removed]",
      "text/plain": [
       "<Figure size 432x288 with 1 Axes>"
      ]
     },
     "metadata": {},
     "output_type": "display_data"
    }
   ],
   "source": [
    "vizdf = loadingsdf.reset_index().rename({'index':'variable'}, axis=1)\n",
    "fig = sns.scatterplot(x='Fashion', y='Prestige', data=vizdf)\n",
    "for row in vizdf.to_dict(orient='records'):\n",
    "     fig.text(row['Fashion']+0.01, row['Prestige']+.02, \n",
    "     row['variable'], horizontalalignment='left', \n",
    "     size='medium', color='black')\n",
    "plt.show()"
   ]
  },
  {
   "cell_type": "code",
   "execution_count": 10,
   "metadata": {},
   "outputs": [],
   "source": [
    "# 지금 이 코드에서는 이중for문 사용해서 프로그래밍 안 익숙한 분들은 좀 헷갈릴 수 있습니다.\n",
    "for factor_name in loadingsdf.columns : # factor_name은 'Fashion'과 'Prestige' 두 가지\n",
    "    list_factorweight = []\n",
    "    for variable, weight in loadingsdf[factor_name].to_dict().items() : # ex. (Afford, -0.66)\n",
    "        list_factorweight.append(rawdf[variable]*weight)\n",
    "    rawdf[factor_name] = np.mean(list_factorweight, axis=0)"
   ]
  },
  {
   "cell_type": "code",
   "execution_count": 11,
   "metadata": {},
   "outputs": [
    {
     "data": {
      "image/png": "[encoded data removed]",
      "text/plain": [
       "<Figure size 432x288 with 1 Axes>"
      ]
     },
     "metadata": {},
     "output_type": "display_data"
    }
   ],
   "source": [
    "cardf = rawdf.groupby('Car').mean()[['Fashion', 'Prestige']].reset_index()\n",
    "fig = sns.scatterplot(x='Fashion', y='Prestige', data=cardf)\n",
    "for row in cardf.to_dict(orient='records'):\n",
    "     fig.text(row['Fashion']+.02, row['Prestige']+.02, \n",
    "     row['Car'], horizontalalignment='left', \n",
    "     size='medium', color='black')\n",
    "plt.show()"
   ]
  }
 ],
 "metadata": {
  "kernelspec": {
   "display_name": "Python 3",
   "language": "python",
   "name": "python3"
  },
  "language_info": {
   "codemirror_mode": {
    "name": "ipython",
    "version": 3
   },
   "file_extension": ".py",
   "mimetype": "text/x-python",
   "name": "python",
   "nbconvert_exporter": "python",
   "pygments_lexer": "ipython3",
   "version": "3.8.5"
  }
 },
 "nbformat": 4,
 "nbformat_minor": 4
}
