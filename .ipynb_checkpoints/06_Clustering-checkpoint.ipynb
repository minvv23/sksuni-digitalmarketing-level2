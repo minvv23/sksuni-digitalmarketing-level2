{
 "cells": [
  {
   "cell_type": "code",
   "execution_count": 1,
   "metadata": {},
   "outputs": [
    {
     "data": {
      "text/plain": [
       "<Figure size 432x288 with 0 Axes>"
      ]
     },
     "metadata": {},
     "output_type": "display_data"
    }
   ],
   "source": [
    "import numpy as np # 수치연산 관련 패키지\n",
    "import pandas as pd # DataFrame을 다루는 데이터 전처리 패키지\n",
    "from scipy import stats # statistics tools\n",
    "import statsmodels.api as sm # linear models\n",
    "import matplotlib.pyplot as plt # 기본 시각화 패키지\n",
    "import seaborn as sns # 고급(?) 시각화 패키지 - R의 ggplot 같은겁니다.\n",
    "\n",
    "# Seaborn 시각화 환경 세팅\n",
    "sns.set_theme(style='white',\n",
    "              rc = {'axes.unicode_minus': False,\n",
    "                    'axes.spines.top':False,\n",
    "                    'axes.spines.right':False,\n",
    "                    'axes.titlesize':13,\n",
    "                    'axes.titleweight':'semibold',\n",
    "                    'font.family':'NanumSquare', #폰트이름 (ex. AppleGothic)\n",
    "                    'font.weight':'normal'})\n",
    "sns.despine(left=True, bottom=True)\n",
    "sns.set_palette('tab10')"
   ]
  },
  {
   "cell_type": "code",
   "execution_count": 2,
   "metadata": {},
   "outputs": [],
   "source": [
    "from factor_analyzer import FactorAnalyzer\n",
    "from factor_analyzer.factor_analyzer import calculate_bartlett_sphericity, calculate_kmo"
   ]
  },
  {
   "cell_type": "code",
   "execution_count": 3,
   "metadata": {},
   "outputs": [
    {
     "data": {
      "text/html": [
       "<div>\n",
       "<style scoped>\n",
       "    .dataframe tbody tr th:only-of-type {\n",
       "        vertical-align: middle;\n",
       "    }\n",
       "\n",
       "    .dataframe tbody tr th {\n",
       "        vertical-align: top;\n",
       "    }\n",
       "\n",
       "    .dataframe thead th {\n",
       "        text-align: right;\n",
       "    }\n",
       "</style>\n",
       "<table border=\"1\" class=\"dataframe\">\n",
       "  <thead>\n",
       "    <tr style=\"text-align: right;\">\n",
       "      <th></th>\n",
       "      <th>Visit</th>\n",
       "      <th>Income</th>\n",
       "      <th>TravelAttitude</th>\n",
       "      <th>VacationImp</th>\n",
       "      <th>HHSize</th>\n",
       "      <th>HHHeadAge</th>\n",
       "      <th>VacationMoney</th>\n",
       "    </tr>\n",
       "  </thead>\n",
       "  <tbody>\n",
       "    <tr>\n",
       "      <th>0</th>\n",
       "      <td>1</td>\n",
       "      <td>50.2</td>\n",
       "      <td>5</td>\n",
       "      <td>8</td>\n",
       "      <td>3</td>\n",
       "      <td>43</td>\n",
       "      <td>2</td>\n",
       "    </tr>\n",
       "    <tr>\n",
       "      <th>1</th>\n",
       "      <td>1</td>\n",
       "      <td>70.3</td>\n",
       "      <td>6</td>\n",
       "      <td>7</td>\n",
       "      <td>4</td>\n",
       "      <td>61</td>\n",
       "      <td>3</td>\n",
       "    </tr>\n",
       "    <tr>\n",
       "      <th>2</th>\n",
       "      <td>1</td>\n",
       "      <td>62.9</td>\n",
       "      <td>7</td>\n",
       "      <td>5</td>\n",
       "      <td>6</td>\n",
       "      <td>52</td>\n",
       "      <td>3</td>\n",
       "    </tr>\n",
       "    <tr>\n",
       "      <th>3</th>\n",
       "      <td>1</td>\n",
       "      <td>48.5</td>\n",
       "      <td>7</td>\n",
       "      <td>5</td>\n",
       "      <td>5</td>\n",
       "      <td>36</td>\n",
       "      <td>1</td>\n",
       "    </tr>\n",
       "    <tr>\n",
       "      <th>4</th>\n",
       "      <td>1</td>\n",
       "      <td>52.7</td>\n",
       "      <td>6</td>\n",
       "      <td>6</td>\n",
       "      <td>4</td>\n",
       "      <td>55</td>\n",
       "      <td>3</td>\n",
       "    </tr>\n",
       "  </tbody>\n",
       "</table>\n",
       "</div>"
      ],
      "text/plain": [
       "   Visit  Income  TravelAttitude  VacationImp  HHSize  HHHeadAge  \\\n",
       "0      1    50.2               5            8       3         43   \n",
       "1      1    70.3               6            7       4         61   \n",
       "2      1    62.9               7            5       6         52   \n",
       "3      1    48.5               7            5       5         36   \n",
       "4      1    52.7               6            6       4         55   \n",
       "\n",
       "   VacationMoney  \n",
       "0              2  \n",
       "1              3  \n",
       "2              3  \n",
       "3              1  \n",
       "4              3  "
      ]
     },
     "execution_count": 3,
     "metadata": {},
     "output_type": "execute_result"
    }
   ],
   "source": [
    "hoteldf = pd.read_csv('./data/L10_cluster_analysis.csv')\n",
    "hoteldf = hoteldf.rename({'Vacation.':'VacationMoney'}, axis=1)\n",
    "hoteldf.head(5)"
   ]
  },
  {
   "cell_type": "code",
   "execution_count": 4,
   "metadata": {},
   "outputs": [
    {
     "data": {
      "text/html": [
       "<div>\n",
       "<style scoped>\n",
       "    .dataframe tbody tr th:only-of-type {\n",
       "        vertical-align: middle;\n",
       "    }\n",
       "\n",
       "    .dataframe tbody tr th {\n",
       "        vertical-align: top;\n",
       "    }\n",
       "\n",
       "    .dataframe thead th {\n",
       "        text-align: right;\n",
       "    }\n",
       "</style>\n",
       "<table border=\"1\" class=\"dataframe\">\n",
       "  <thead>\n",
       "    <tr style=\"text-align: right;\">\n",
       "      <th></th>\n",
       "      <th>Income</th>\n",
       "      <th>TravelAttitude</th>\n",
       "      <th>VacationImp</th>\n",
       "      <th>HHSize</th>\n",
       "      <th>HHHeadAge</th>\n",
       "      <th>VacationMoney</th>\n",
       "    </tr>\n",
       "  </thead>\n",
       "  <tbody>\n",
       "    <tr>\n",
       "      <th>0</th>\n",
       "      <td>0.421911</td>\n",
       "      <td>0.571429</td>\n",
       "      <td>1.000000</td>\n",
       "      <td>0.2</td>\n",
       "      <td>0.21875</td>\n",
       "      <td>0.5</td>\n",
       "    </tr>\n",
       "    <tr>\n",
       "      <th>1</th>\n",
       "      <td>0.890443</td>\n",
       "      <td>0.714286</td>\n",
       "      <td>0.857143</td>\n",
       "      <td>0.4</td>\n",
       "      <td>0.78125</td>\n",
       "      <td>1.0</td>\n",
       "    </tr>\n",
       "    <tr>\n",
       "      <th>2</th>\n",
       "      <td>0.717949</td>\n",
       "      <td>0.857143</td>\n",
       "      <td>0.571429</td>\n",
       "      <td>0.8</td>\n",
       "      <td>0.50000</td>\n",
       "      <td>1.0</td>\n",
       "    </tr>\n",
       "    <tr>\n",
       "      <th>3</th>\n",
       "      <td>0.382284</td>\n",
       "      <td>0.857143</td>\n",
       "      <td>0.571429</td>\n",
       "      <td>0.6</td>\n",
       "      <td>0.00000</td>\n",
       "      <td>0.0</td>\n",
       "    </tr>\n",
       "    <tr>\n",
       "      <th>4</th>\n",
       "      <td>0.480186</td>\n",
       "      <td>0.714286</td>\n",
       "      <td>0.714286</td>\n",
       "      <td>0.4</td>\n",
       "      <td>0.59375</td>\n",
       "      <td>1.0</td>\n",
       "    </tr>\n",
       "  </tbody>\n",
       "</table>\n",
       "</div>"
      ],
      "text/plain": [
       "     Income  TravelAttitude  VacationImp  HHSize  HHHeadAge  VacationMoney\n",
       "0  0.421911        0.571429     1.000000     0.2    0.21875            0.5\n",
       "1  0.890443        0.714286     0.857143     0.4    0.78125            1.0\n",
       "2  0.717949        0.857143     0.571429     0.8    0.50000            1.0\n",
       "3  0.382284        0.857143     0.571429     0.6    0.00000            0.0\n",
       "4  0.480186        0.714286     0.714286     0.4    0.59375            1.0"
      ]
     },
     "execution_count": 4,
     "metadata": {},
     "output_type": "execute_result"
    }
   ],
   "source": [
    "from sklearn.preprocessing import minmax_scale #0-1 표준화\n",
    "schoteldf = pd.DataFrame(minmax_scale(hoteldf), columns=hoteldf.columns).drop('Visit', axis=1)\n",
    "schoteldf.head(5)"
   ]
  },
  {
   "cell_type": "code",
   "execution_count": 5,
   "metadata": {},
   "outputs": [
    {
     "data": {
      "image/png": "[encoded data removed]",
      "text/plain": [
       "<Figure size 720x504 with 1 Axes>"
      ]
     },
     "metadata": {},
     "output_type": "display_data"
    }
   ],
   "source": [
    "import scipy.cluster.hierarchy as shc\n",
    "plt.figure(figsize=(10, 7))\n",
    "plt.title(\"Customer Dendograms\")\n",
    "dend = shc.dendrogram(shc.linkage(schoteldf, method='ward'), \n",
    "                      color_threshold=2)\n",
    "plt.axhline(y=2, linestyle='--', color='gray')\n",
    "plt.show()"
   ]
  },
  {
   "cell_type": "code",
   "execution_count": 6,
   "metadata": {},
   "outputs": [
    {
     "data": {
      "text/html": [
       "<div>\n",
       "<style scoped>\n",
       "    .dataframe tbody tr th:only-of-type {\n",
       "        vertical-align: middle;\n",
       "    }\n",
       "\n",
       "    .dataframe tbody tr th {\n",
       "        vertical-align: top;\n",
       "    }\n",
       "\n",
       "    .dataframe thead th {\n",
       "        text-align: right;\n",
       "    }\n",
       "</style>\n",
       "<table border=\"1\" class=\"dataframe\">\n",
       "  <thead>\n",
       "    <tr style=\"text-align: right;\">\n",
       "      <th></th>\n",
       "      <th>index</th>\n",
       "      <th>cluster</th>\n",
       "    </tr>\n",
       "  </thead>\n",
       "  <tbody>\n",
       "    <tr>\n",
       "      <th>0</th>\n",
       "      <td>0</td>\n",
       "      <td>C2</td>\n",
       "    </tr>\n",
       "    <tr>\n",
       "      <th>1</th>\n",
       "      <td>1</td>\n",
       "      <td>C1</td>\n",
       "    </tr>\n",
       "    <tr>\n",
       "      <th>2</th>\n",
       "      <td>2</td>\n",
       "      <td>C1</td>\n",
       "    </tr>\n",
       "    <tr>\n",
       "      <th>3</th>\n",
       "      <td>3</td>\n",
       "      <td>C2</td>\n",
       "    </tr>\n",
       "    <tr>\n",
       "      <th>4</th>\n",
       "      <td>4</td>\n",
       "      <td>C1</td>\n",
       "    </tr>\n",
       "  </tbody>\n",
       "</table>\n",
       "</div>"
      ],
      "text/plain": [
       "   index cluster\n",
       "0      0      C2\n",
       "1      1      C1\n",
       "2      2      C1\n",
       "3      3      C2\n",
       "4      4      C1"
      ]
     },
     "execution_count": 6,
     "metadata": {},
     "output_type": "execute_result"
    }
   ],
   "source": [
    "clusterdf = pd.DataFrame(zip(dend['leaves'], dend['leaves_color_list']), \n",
    "                         columns=['index', 'cluster'])\n",
    "clusterdf = clusterdf.sort_values('index').reset_index(drop=True)\n",
    "clusterdf.head(5)"
   ]
  },
  {
   "cell_type": "code",
   "execution_count": 7,
   "metadata": {},
   "outputs": [
    {
     "data": {
      "text/html": [
       "<div>\n",
       "<style scoped>\n",
       "    .dataframe tbody tr th:only-of-type {\n",
       "        vertical-align: middle;\n",
       "    }\n",
       "\n",
       "    .dataframe tbody tr th {\n",
       "        vertical-align: top;\n",
       "    }\n",
       "\n",
       "    .dataframe thead th {\n",
       "        text-align: right;\n",
       "    }\n",
       "</style>\n",
       "<table border=\"1\" class=\"dataframe\">\n",
       "  <thead>\n",
       "    <tr style=\"text-align: right;\">\n",
       "      <th></th>\n",
       "      <th>Visit</th>\n",
       "      <th>Income</th>\n",
       "      <th>TravelAttitude</th>\n",
       "      <th>VacationImp</th>\n",
       "      <th>HHSize</th>\n",
       "      <th>HHHeadAge</th>\n",
       "      <th>VacationMoney</th>\n",
       "    </tr>\n",
       "    <tr>\n",
       "      <th>hierarchy_cluster</th>\n",
       "      <th></th>\n",
       "      <th></th>\n",
       "      <th></th>\n",
       "      <th></th>\n",
       "      <th></th>\n",
       "      <th></th>\n",
       "      <th></th>\n",
       "    </tr>\n",
       "  </thead>\n",
       "  <tbody>\n",
       "    <tr>\n",
       "      <th>C1</th>\n",
       "      <td>0.923077</td>\n",
       "      <td>64.115385</td>\n",
       "      <td>6.230769</td>\n",
       "      <td>6.000000</td>\n",
       "      <td>4.461538</td>\n",
       "      <td>54.230769</td>\n",
       "      <td>3.000000</td>\n",
       "    </tr>\n",
       "    <tr>\n",
       "      <th>C2</th>\n",
       "      <td>0.363636</td>\n",
       "      <td>48.254545</td>\n",
       "      <td>5.909091</td>\n",
       "      <td>5.272727</td>\n",
       "      <td>3.272727</td>\n",
       "      <td>42.545455</td>\n",
       "      <td>1.636364</td>\n",
       "    </tr>\n",
       "    <tr>\n",
       "      <th>C3</th>\n",
       "      <td>0.277778</td>\n",
       "      <td>42.744444</td>\n",
       "      <td>3.277778</td>\n",
       "      <td>3.777778</td>\n",
       "      <td>3.444444</td>\n",
       "      <td>54.388889</td>\n",
       "      <td>1.500000</td>\n",
       "    </tr>\n",
       "  </tbody>\n",
       "</table>\n",
       "</div>"
      ],
      "text/plain": [
       "                      Visit     Income  TravelAttitude  VacationImp    HHSize  \\\n",
       "hierarchy_cluster                                                               \n",
       "C1                 0.923077  64.115385        6.230769     6.000000  4.461538   \n",
       "C2                 0.363636  48.254545        5.909091     5.272727  3.272727   \n",
       "C3                 0.277778  42.744444        3.277778     3.777778  3.444444   \n",
       "\n",
       "                   HHHeadAge  VacationMoney  \n",
       "hierarchy_cluster                            \n",
       "C1                 54.230769       3.000000  \n",
       "C2                 42.545455       1.636364  \n",
       "C3                 54.388889       1.500000  "
      ]
     },
     "execution_count": 7,
     "metadata": {},
     "output_type": "execute_result"
    }
   ],
   "source": [
    "hoteldf['hierarchy_cluster'] = clusterdf['cluster']\n",
    "hoteldf.groupby('hierarchy_cluster').mean()"
   ]
  },
  {
   "cell_type": "code",
   "execution_count": 8,
   "metadata": {},
   "outputs": [
    {
     "data": {
      "text/plain": [
       "array([2, 0, 0, 1, 0, 0, 2, 2, 0, 0, 0, 0, 0, 2, 0, 1, 1, 2, 2, 2, 1, 2,\n",
       "       1, 1, 1, 2, 2, 1, 1, 1, 2, 0, 0, 2, 0, 0, 1, 1, 2, 1, 2, 1],\n",
       "      dtype=int32)"
      ]
     },
     "execution_count": 8,
     "metadata": {},
     "output_type": "execute_result"
    }
   ],
   "source": [
    "from sklearn.cluster import KMeans\n",
    "np.random.seed(0)\n",
    "kmeans_cluster = KMeans(n_clusters=3)  \n",
    "kmeans_cluster.fit_predict(schoteldf)"
   ]
  },
  {
   "cell_type": "code",
   "execution_count": 9,
   "metadata": {},
   "outputs": [
    {
     "data": {
      "text/html": [
       "<div>\n",
       "<style scoped>\n",
       "    .dataframe tbody tr th:only-of-type {\n",
       "        vertical-align: middle;\n",
       "    }\n",
       "\n",
       "    .dataframe tbody tr th {\n",
       "        vertical-align: top;\n",
       "    }\n",
       "\n",
       "    .dataframe thead th {\n",
       "        text-align: right;\n",
       "    }\n",
       "</style>\n",
       "<table border=\"1\" class=\"dataframe\">\n",
       "  <thead>\n",
       "    <tr style=\"text-align: right;\">\n",
       "      <th></th>\n",
       "      <th>Visit</th>\n",
       "      <th>Income</th>\n",
       "      <th>TravelAttitude</th>\n",
       "      <th>VacationImp</th>\n",
       "      <th>HHSize</th>\n",
       "      <th>HHHeadAge</th>\n",
       "      <th>VacationMoney</th>\n",
       "    </tr>\n",
       "    <tr>\n",
       "      <th>kmeans_cluster</th>\n",
       "      <th></th>\n",
       "      <th></th>\n",
       "      <th></th>\n",
       "      <th></th>\n",
       "      <th></th>\n",
       "      <th></th>\n",
       "      <th></th>\n",
       "    </tr>\n",
       "  </thead>\n",
       "  <tbody>\n",
       "    <tr>\n",
       "      <th>0</th>\n",
       "      <td>1.000000</td>\n",
       "      <td>64.592857</td>\n",
       "      <td>5.857143</td>\n",
       "      <td>6.285714</td>\n",
       "      <td>4.642857</td>\n",
       "      <td>55.214286</td>\n",
       "      <td>2.857143</td>\n",
       "    </tr>\n",
       "    <tr>\n",
       "      <th>1</th>\n",
       "      <td>0.071429</td>\n",
       "      <td>38.964286</td>\n",
       "      <td>4.142857</td>\n",
       "      <td>4.357143</td>\n",
       "      <td>3.428571</td>\n",
       "      <td>49.714286</td>\n",
       "      <td>1.000000</td>\n",
       "    </tr>\n",
       "    <tr>\n",
       "      <th>2</th>\n",
       "      <td>0.428571</td>\n",
       "      <td>48.850000</td>\n",
       "      <td>4.642857</td>\n",
       "      <td>3.928571</td>\n",
       "      <td>3.071429</td>\n",
       "      <td>48.785714</td>\n",
       "      <td>2.142857</td>\n",
       "    </tr>\n",
       "  </tbody>\n",
       "</table>\n",
       "</div>"
      ],
      "text/plain": [
       "                   Visit     Income  TravelAttitude  VacationImp    HHSize  \\\n",
       "kmeans_cluster                                                               \n",
       "0               1.000000  64.592857        5.857143     6.285714  4.642857   \n",
       "1               0.071429  38.964286        4.142857     4.357143  3.428571   \n",
       "2               0.428571  48.850000        4.642857     3.928571  3.071429   \n",
       "\n",
       "                HHHeadAge  VacationMoney  \n",
       "kmeans_cluster                            \n",
       "0               55.214286       2.857143  \n",
       "1               49.714286       1.000000  \n",
       "2               48.785714       2.142857  "
      ]
     },
     "execution_count": 9,
     "metadata": {},
     "output_type": "execute_result"
    }
   ],
   "source": [
    "hoteldf['kmeans_cluster'] = kmeans_cluster.labels_\n",
    "hoteldf.groupby('kmeans_cluster').mean()"
   ]
  },
  {
   "cell_type": "code",
   "execution_count": 10,
   "metadata": {},
   "outputs": [
    {
     "name": "stdout",
     "output_type": "stream",
     "text": [
      "Kaiser-Meyer-Olkin(KMO) Test : 0.6125588614082014\n",
      "Bartlett’s test p-value : 3.395064989287618e-10\n"
     ]
    },
    {
     "name": "stderr",
     "output_type": "stream",
     "text": [
      "/home/hunnae/anaconda3/lib/python3.8/site-packages/factor_analyzer/utils.py:249: UserWarning: The inverse of the variance-covariance matrix was calculated using the Moore-Penrose generalized matrix inversion, due to its determinant being at or very close to zero.\n",
      "  warnings.warn('The inverse of the variance-covariance matrix '\n"
     ]
    }
   ],
   "source": [
    "print('Kaiser-Meyer-Olkin(KMO) Test :', calculate_kmo(schoteldf)[1]) # recommended to be above .6\n",
    "print('Bartlett’s test p-value :', calculate_bartlett_sphericity(schoteldf)[1]) # should be rejected"
   ]
  },
  {
   "cell_type": "code",
   "execution_count": 11,
   "metadata": {},
   "outputs": [
    {
     "data": {
      "image/png": "[encoded data removed]",
      "text/plain": [
       "<Figure size 432x288 with 1 Axes>"
      ]
     },
     "metadata": {},
     "output_type": "display_data"
    }
   ],
   "source": [
    "fa = FactorAnalyzer(n_factors=5, rotation=None)\n",
    "fa.fit(schoteldf)\n",
    "ev, v = fa.get_eigenvalues()\n",
    "\n",
    "fig = sns.lineplot(x=range(1, len(ev)+1), y=ev)\n",
    "fig.set(title='Scree Plot', xlabel='Number of Factors', ylabel='Eigenvalue')\n",
    "plt.axvline(2, color=[.6,.6,.6], linestyle='--')\n",
    "plt.show()"
   ]
  },
  {
   "cell_type": "code",
   "execution_count": 12,
   "metadata": {},
   "outputs": [
    {
     "data": {
      "text/html": [
       "<div>\n",
       "<style scoped>\n",
       "    .dataframe tbody tr th:only-of-type {\n",
       "        vertical-align: middle;\n",
       "    }\n",
       "\n",
       "    .dataframe tbody tr th {\n",
       "        vertical-align: top;\n",
       "    }\n",
       "\n",
       "    .dataframe thead th {\n",
       "        text-align: right;\n",
       "    }\n",
       "</style>\n",
       "<table border=\"1\" class=\"dataframe\">\n",
       "  <thead>\n",
       "    <tr style=\"text-align: right;\">\n",
       "      <th></th>\n",
       "      <th>Factor #0</th>\n",
       "      <th>Factor #1</th>\n",
       "    </tr>\n",
       "  </thead>\n",
       "  <tbody>\n",
       "    <tr>\n",
       "      <th>Income</th>\n",
       "      <td>0.975619</td>\n",
       "      <td>0.058159</td>\n",
       "    </tr>\n",
       "    <tr>\n",
       "      <th>TravelAttitude</th>\n",
       "      <td>0.469747</td>\n",
       "      <td>-0.154481</td>\n",
       "    </tr>\n",
       "    <tr>\n",
       "      <th>VacationImp</th>\n",
       "      <td>0.369584</td>\n",
       "      <td>0.110119</td>\n",
       "    </tr>\n",
       "    <tr>\n",
       "      <th>HHSize</th>\n",
       "      <td>0.419734</td>\n",
       "      <td>0.028951</td>\n",
       "    </tr>\n",
       "    <tr>\n",
       "      <th>HHHeadAge</th>\n",
       "      <td>0.073490</td>\n",
       "      <td>0.996604</td>\n",
       "    </tr>\n",
       "    <tr>\n",
       "      <th>VacationMoney</th>\n",
       "      <td>0.816783</td>\n",
       "      <td>0.157601</td>\n",
       "    </tr>\n",
       "  </tbody>\n",
       "</table>\n",
       "</div>"
      ],
      "text/plain": [
       "                Factor #0  Factor #1\n",
       "Income           0.975619   0.058159\n",
       "TravelAttitude   0.469747  -0.154481\n",
       "VacationImp      0.369584   0.110119\n",
       "HHSize           0.419734   0.028951\n",
       "HHHeadAge        0.073490   0.996604\n",
       "VacationMoney    0.816783   0.157601"
      ]
     },
     "execution_count": 12,
     "metadata": {},
     "output_type": "execute_result"
    }
   ],
   "source": [
    "var_fa = FactorAnalyzer(n_factors=2, rotation='varimax')\n",
    "var_fa.fit(schoteldf)\n",
    "\n",
    "variancedf = pd.DataFrame(var_fa.get_factor_variance())\n",
    "variancedf.columns = 'Factor #'+pd.Series(variancedf.columns).astype(str)\n",
    "variancedf.index = ['SS Loadings', 'Proportion Var', 'Cumulative Var']\n",
    "\n",
    "loadingsdf = pd.DataFrame(var_fa.loadings_)\n",
    "loadingsdf.columns = 'Factor #'+pd.Series(loadingsdf.columns).astype(str)\n",
    "loadingsdf.index = schoteldf.columns\n",
    "loadingsdf"
   ]
  },
  {
   "cell_type": "code",
   "execution_count": 13,
   "metadata": {},
   "outputs": [],
   "source": [
    "# 지금 이 코드에서는 이중for문 사용해서 프로그래밍 안 익숙한 분들은 좀 헷갈릴 수 있습니다.\n",
    "for factor_name in loadingsdf.columns :\n",
    "    list_factorweight = []\n",
    "    for variable, weight in loadingsdf[factor_name].to_dict().items() : # ex. (Afford, -0.66)\n",
    "        list_factorweight.append(hoteldf[variable]*weight)\n",
    "    hoteldf[factor_name] = np.mean(list_factorweight, axis=0)"
   ]
  },
  {
   "cell_type": "code",
   "execution_count": 14,
   "metadata": {},
   "outputs": [
    {
     "data": {
      "image/png": "[encoded data removed]",
      "text/plain": [
       "<Figure size 432x288 with 1 Axes>"
      ]
     },
     "metadata": {},
     "output_type": "display_data"
    },
    {
     "data": {
      "image/png": "[encoded data removed]",
      "text/plain": [
       "<Figure size 432x288 with 1 Axes>"
      ]
     },
     "metadata": {},
     "output_type": "display_data"
    }
   ],
   "source": [
    "# Hierarchy Clustering\n",
    "fig = sns.scatterplot(x='Factor #0', y='Factor #1', hue='hierarchy_cluster',\n",
    "                      palette=sns.color_palette()[:3],\n",
    "                      data=hoteldf)\n",
    "fig.set(title='Visualization - Hierarchy Clustering')\n",
    "fig.legend(title='Hierarchy Clusters', loc='upper right', bbox_to_anchor=(1.35,1))\n",
    "plt.show()\n",
    "\n",
    "# Kmeans Clustering\n",
    "fig = sns.scatterplot(x='Factor #0', y='Factor #1', hue='kmeans_cluster',\n",
    "                      palette=sns.color_palette()[7:10],\n",
    "                      data=hoteldf)\n",
    "fig.set(title='Visualization - Kmeans Clustering')\n",
    "fig.legend(title='Kmeans Clusters', loc='upper right', bbox_to_anchor=(1.35,1))\n",
    "plt.show()"
   ]
  }
 ],
 "metadata": {
  "kernelspec": {
   "display_name": "Python 3",
   "language": "python",
   "name": "python3"
  },
  "language_info": {
   "codemirror_mode": {
    "name": "ipython",
    "version": 3
   },
   "file_extension": ".py",
   "mimetype": "text/x-python",
   "name": "python",
   "nbconvert_exporter": "python",
   "pygments_lexer": "ipython3",
   "version": "3.8.5"
  }
 },
 "nbformat": 4,
 "nbformat_minor": 4
}
