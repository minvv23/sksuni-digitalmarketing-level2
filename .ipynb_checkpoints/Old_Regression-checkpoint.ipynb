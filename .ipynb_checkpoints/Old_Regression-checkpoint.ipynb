{
 "cells": [
  {
   "cell_type": "code",
   "execution_count": 1,
   "metadata": {},
   "outputs": [],
   "source": [
    "import numpy as np # 수치연산 관련 패키지\n",
    "import pandas as pd # DataFrame을 다루는 데이터 전처리 패키지\n",
    "import statsmodels.api as sm # linear models\n",
    "import matplotlib.pyplot as plt # 기본 시각화 패키지\n",
    "import seaborn as sns # 고급(?) 시각화 패키지 - R의 ggplot 같은겁니다."
   ]
  },
  {
   "cell_type": "markdown",
   "metadata": {},
   "source": [
    "**Hotel Booking Demand Dataset https://www.sciencedirect.com/science/article/pii/S2352340918315191#f0010**  \n",
    "  \n",
    "변수 설명은 아래 링크 참고  \n",
    "https://github.com/rfordatascience/tidytuesday/blob/master/data/2020/2020-02-11/readme.md#data-dictionary"
   ]
  },
  {
   "cell_type": "code",
   "execution_count": 2,
   "metadata": {},
   "outputs": [
    {
     "data": {
      "text/plain": [
       "Index(['hotel', 'is_canceled', 'lead_time', 'arrival_date_year',\n",
       "       'arrival_date_month', 'arrival_date_week_number',\n",
       "       'arrival_date_day_of_month', 'stays_in_weekend_nights',\n",
       "       'stays_in_week_nights', 'adults', 'children', 'babies', 'meal',\n",
       "       'country', 'market_segment', 'distribution_channel',\n",
       "       'is_repeated_guest', 'previous_cancellations',\n",
       "       'previous_bookings_not_canceled', 'reserved_room_type',\n",
       "       'assigned_room_type', 'booking_changes', 'deposit_type', 'agent',\n",
       "       'company', 'days_in_waiting_list', 'customer_type', 'adr',\n",
       "       'required_car_parking_spaces', 'total_of_special_requests',\n",
       "       'reservation_status', 'reservation_status_date'],\n",
       "      dtype='object')"
      ]
     },
     "execution_count": 2,
     "metadata": {},
     "output_type": "execute_result"
    }
   ],
   "source": [
    "np.random.seed(0) # 난수 고정\n",
    "hoteldf = pd.read_csv('./data/hotels.csv').sample(frac=.1) # 데이터가 너무 많으니 10%만 추출\n",
    "hoteldf.columns"
   ]
  },
  {
   "cell_type": "markdown",
   "metadata": {},
   "source": [
    "### 1. Simple Linear Regression"
   ]
  },
  {
   "cell_type": "code",
   "execution_count": 3,
   "metadata": {},
   "outputs": [
    {
     "data": {
      "text/html": [
       "<table class=\"simpletable\">\n",
       "<caption>OLS Regression Results</caption>\n",
       "<tr>\n",
       "  <th>Dep. Variable:</th>        <td>lead_time</td>    <th>  R-squared:         </th> <td>   0.012</td> \n",
       "</tr>\n",
       "<tr>\n",
       "  <th>Model:</th>                   <td>OLS</td>       <th>  Adj. R-squared:    </th> <td>   0.012</td> \n",
       "</tr>\n",
       "<tr>\n",
       "  <th>Method:</th>             <td>Least Squares</td>  <th>  F-statistic:       </th> <td>   141.9</td> \n",
       "</tr>\n",
       "<tr>\n",
       "  <th>Date:</th>             <td>Wed, 16 Feb 2022</td> <th>  Prob (F-statistic):</th> <td>1.57e-32</td> \n",
       "</tr>\n",
       "<tr>\n",
       "  <th>Time:</th>                 <td>05:43:13</td>     <th>  Log-Likelihood:    </th> <td> -72710.</td> \n",
       "</tr>\n",
       "<tr>\n",
       "  <th>No. Observations:</th>      <td> 11939</td>      <th>  AIC:               </th> <td>1.454e+05</td>\n",
       "</tr>\n",
       "<tr>\n",
       "  <th>Df Residuals:</th>          <td> 11937</td>      <th>  BIC:               </th> <td>1.454e+05</td>\n",
       "</tr>\n",
       "<tr>\n",
       "  <th>Df Model:</th>              <td>     1</td>      <th>                     </th>     <td> </td>    \n",
       "</tr>\n",
       "<tr>\n",
       "  <th>Covariance Type:</th>      <td>nonrobust</td>    <th>                     </th>     <td> </td>    \n",
       "</tr>\n",
       "</table>\n",
       "<table class=\"simpletable\">\n",
       "<tr>\n",
       "          <td></td>             <th>coef</th>     <th>std err</th>      <th>t</th>      <th>P>|t|</th>  <th>[0.025</th>    <th>0.975]</th>  \n",
       "</tr>\n",
       "<tr>\n",
       "  <th>Intercept</th>         <td>  106.9696</td> <td>    0.991</td> <td>  107.913</td> <td> 0.000</td> <td>  105.027</td> <td>  108.913</td>\n",
       "</tr>\n",
       "<tr>\n",
       "  <th>is_repeated_guest</th> <td>  -71.7869</td> <td>    6.027</td> <td>  -11.912</td> <td> 0.000</td> <td>  -83.600</td> <td>  -59.974</td>\n",
       "</tr>\n",
       "</table>\n",
       "<table class=\"simpletable\">\n",
       "<tr>\n",
       "  <th>Omnibus:</th>       <td>2613.635</td> <th>  Durbin-Watson:     </th> <td>   1.989</td>\n",
       "</tr>\n",
       "<tr>\n",
       "  <th>Prob(Omnibus):</th>  <td> 0.000</td>  <th>  Jarque-Bera (JB):  </th> <td>5010.961</td>\n",
       "</tr>\n",
       "<tr>\n",
       "  <th>Skew:</th>           <td> 1.347</td>  <th>  Prob(JB):          </th> <td>    0.00</td>\n",
       "</tr>\n",
       "<tr>\n",
       "  <th>Kurtosis:</th>       <td> 4.678</td>  <th>  Cond. No.          </th> <td>    6.17</td>\n",
       "</tr>\n",
       "</table><br/><br/>Notes:<br/>[1] Standard Errors assume that the covariance matrix of the errors is correctly specified."
      ],
      "text/plain": [
       "<class 'statsmodels.iolib.summary.Summary'>\n",
       "\"\"\"\n",
       "                            OLS Regression Results                            \n",
       "==============================================================================\n",
       "Dep. Variable:              lead_time   R-squared:                       0.012\n",
       "Model:                            OLS   Adj. R-squared:                  0.012\n",
       "Method:                 Least Squares   F-statistic:                     141.9\n",
       "Date:                Wed, 16 Feb 2022   Prob (F-statistic):           1.57e-32\n",
       "Time:                        05:43:13   Log-Likelihood:                -72710.\n",
       "No. Observations:               11939   AIC:                         1.454e+05\n",
       "Df Residuals:                   11937   BIC:                         1.454e+05\n",
       "Df Model:                           1                                         \n",
       "Covariance Type:            nonrobust                                         \n",
       "=====================================================================================\n",
       "                        coef    std err          t      P>|t|      [0.025      0.975]\n",
       "-------------------------------------------------------------------------------------\n",
       "Intercept           106.9696      0.991    107.913      0.000     105.027     108.913\n",
       "is_repeated_guest   -71.7869      6.027    -11.912      0.000     -83.600     -59.974\n",
       "==============================================================================\n",
       "Omnibus:                     2613.635   Durbin-Watson:                   1.989\n",
       "Prob(Omnibus):                  0.000   Jarque-Bera (JB):             5010.961\n",
       "Skew:                           1.347   Prob(JB):                         0.00\n",
       "Kurtosis:                       4.678   Cond. No.                         6.17\n",
       "==============================================================================\n",
       "\n",
       "Notes:\n",
       "[1] Standard Errors assume that the covariance matrix of the errors is correctly specified.\n",
       "\"\"\""
      ]
     },
     "execution_count": 3,
     "metadata": {},
     "output_type": "execute_result"
    }
   ],
   "source": [
    "# Y : lead_time (예약일과 숙박일 사이의 기간)\n",
    "# X : is_repeated_guest (단골 고객 여부)\n",
    "\n",
    "model = sm.OLS.from_formula('lead_time~is_repeated_guest', data=hoteldf).fit()\n",
    "model.summary()"
   ]
  },
  {
   "cell_type": "code",
   "execution_count": 4,
   "metadata": {},
   "outputs": [
    {
     "data": {
      "image/png": "[encoded data removed]",
      "text/plain": [
       "<Figure size 432x288 with 1 Axes>"
      ]
     },
     "metadata": {
      "needs_background": "light"
     },
     "output_type": "display_data"
    }
   ],
   "source": [
    "sns.kdeplot(hoteldf[hoteldf['is_repeated_guest']==1]['lead_time'], label='Yes', color=sns.color_palette()[0])\n",
    "sns.kdeplot(hoteldf[hoteldf['is_repeated_guest']==0]['lead_time'], label='No', color=sns.color_palette()[3])\n",
    "plt.title('Y:lead_time / X: is_repeated_guest')\n",
    "plt.legend()\n",
    "plt.show()"
   ]
  },
  {
   "cell_type": "markdown",
   "metadata": {},
   "source": [
    "### 2. Multiple Linear Regression"
   ]
  },
  {
   "cell_type": "code",
   "execution_count": 5,
   "metadata": {},
   "outputs": [
    {
     "data": {
      "text/html": [
       "<table class=\"simpletable\">\n",
       "<caption>OLS Regression Results</caption>\n",
       "<tr>\n",
       "  <th>Dep. Variable:</th>        <td>lead_time</td>    <th>  R-squared:         </th> <td>   0.025</td> \n",
       "</tr>\n",
       "<tr>\n",
       "  <th>Model:</th>                   <td>OLS</td>       <th>  Adj. R-squared:    </th> <td>   0.025</td> \n",
       "</tr>\n",
       "<tr>\n",
       "  <th>Method:</th>             <td>Least Squares</td>  <th>  F-statistic:       </th> <td>   77.03</td> \n",
       "</tr>\n",
       "<tr>\n",
       "  <th>Date:</th>             <td>Wed, 16 Feb 2022</td> <th>  Prob (F-statistic):</th> <td>1.32e-64</td> \n",
       "</tr>\n",
       "<tr>\n",
       "  <th>Time:</th>                 <td>05:43:13</td>     <th>  Log-Likelihood:    </th> <td> -72623.</td> \n",
       "</tr>\n",
       "<tr>\n",
       "  <th>No. Observations:</th>      <td> 11938</td>      <th>  AIC:               </th> <td>1.453e+05</td>\n",
       "</tr>\n",
       "<tr>\n",
       "  <th>Df Residuals:</th>          <td> 11933</td>      <th>  BIC:               </th> <td>1.453e+05</td>\n",
       "</tr>\n",
       "<tr>\n",
       "  <th>Df Model:</th>              <td>     4</td>      <th>                     </th>     <td> </td>    \n",
       "</tr>\n",
       "<tr>\n",
       "  <th>Covariance Type:</th>      <td>nonrobust</td>    <th>                     </th>     <td> </td>    \n",
       "</tr>\n",
       "</table>\n",
       "<table class=\"simpletable\">\n",
       "<tr>\n",
       "          <td></td>             <th>coef</th>     <th>std err</th>      <th>t</th>      <th>P>|t|</th>  <th>[0.025</th>    <th>0.975]</th>  \n",
       "</tr>\n",
       "<tr>\n",
       "  <th>Intercept</th>         <td>   72.9901</td> <td>    3.319</td> <td>   21.990</td> <td> 0.000</td> <td>   66.484</td> <td>   79.496</td>\n",
       "</tr>\n",
       "<tr>\n",
       "  <th>is_repeated_guest</th> <td>  -63.1900</td> <td>    6.057</td> <td>  -10.432</td> <td> 0.000</td> <td>  -75.063</td> <td>  -51.317</td>\n",
       "</tr>\n",
       "<tr>\n",
       "  <th>adults</th>            <td>   19.0309</td> <td>    1.687</td> <td>   11.279</td> <td> 0.000</td> <td>   15.724</td> <td>   22.338</td>\n",
       "</tr>\n",
       "<tr>\n",
       "  <th>children</th>          <td>  -15.3696</td> <td>    2.451</td> <td>   -6.271</td> <td> 0.000</td> <td>  -20.174</td> <td>  -10.566</td>\n",
       "</tr>\n",
       "<tr>\n",
       "  <th>babies</th>            <td>  -14.7418</td> <td>   10.819</td> <td>   -1.363</td> <td> 0.173</td> <td>  -35.950</td> <td>    6.466</td>\n",
       "</tr>\n",
       "</table>\n",
       "<table class=\"simpletable\">\n",
       "<tr>\n",
       "  <th>Omnibus:</th>       <td>2625.441</td> <th>  Durbin-Watson:     </th> <td>   2.000</td>\n",
       "</tr>\n",
       "<tr>\n",
       "  <th>Prob(Omnibus):</th>  <td> 0.000</td>  <th>  Jarque-Bera (JB):  </th> <td>5068.502</td>\n",
       "</tr>\n",
       "<tr>\n",
       "  <th>Skew:</th>           <td> 1.348</td>  <th>  Prob(JB):          </th> <td>    0.00</td>\n",
       "</tr>\n",
       "<tr>\n",
       "  <th>Kurtosis:</th>       <td> 4.710</td>  <th>  Cond. No.          </th> <td>    24.3</td>\n",
       "</tr>\n",
       "</table><br/><br/>Notes:<br/>[1] Standard Errors assume that the covariance matrix of the errors is correctly specified."
      ],
      "text/plain": [
       "<class 'statsmodels.iolib.summary.Summary'>\n",
       "\"\"\"\n",
       "                            OLS Regression Results                            \n",
       "==============================================================================\n",
       "Dep. Variable:              lead_time   R-squared:                       0.025\n",
       "Model:                            OLS   Adj. R-squared:                  0.025\n",
       "Method:                 Least Squares   F-statistic:                     77.03\n",
       "Date:                Wed, 16 Feb 2022   Prob (F-statistic):           1.32e-64\n",
       "Time:                        05:43:13   Log-Likelihood:                -72623.\n",
       "No. Observations:               11938   AIC:                         1.453e+05\n",
       "Df Residuals:                   11933   BIC:                         1.453e+05\n",
       "Df Model:                           4                                         \n",
       "Covariance Type:            nonrobust                                         \n",
       "=====================================================================================\n",
       "                        coef    std err          t      P>|t|      [0.025      0.975]\n",
       "-------------------------------------------------------------------------------------\n",
       "Intercept            72.9901      3.319     21.990      0.000      66.484      79.496\n",
       "is_repeated_guest   -63.1900      6.057    -10.432      0.000     -75.063     -51.317\n",
       "adults               19.0309      1.687     11.279      0.000      15.724      22.338\n",
       "children            -15.3696      2.451     -6.271      0.000     -20.174     -10.566\n",
       "babies              -14.7418     10.819     -1.363      0.173     -35.950       6.466\n",
       "==============================================================================\n",
       "Omnibus:                     2625.441   Durbin-Watson:                   2.000\n",
       "Prob(Omnibus):                  0.000   Jarque-Bera (JB):             5068.502\n",
       "Skew:                           1.348   Prob(JB):                         0.00\n",
       "Kurtosis:                       4.710   Cond. No.                         24.3\n",
       "==============================================================================\n",
       "\n",
       "Notes:\n",
       "[1] Standard Errors assume that the covariance matrix of the errors is correctly specified.\n",
       "\"\"\""
      ]
     },
     "execution_count": 5,
     "metadata": {},
     "output_type": "execute_result"
    }
   ],
   "source": [
    "# Y : lead_time (예약일과 숙박일 사이의 기간)\n",
    "# X : is_repeated_guest (단골 고객 여부), adults(예약 성인 수), children(예약 어린이 수), babies(예약 영아 수)\n",
    "\n",
    "model = sm.OLS.from_formula('lead_time~is_repeated_guest+adults+children+babies', data=hoteldf).fit()\n",
    "model.summary()"
   ]
  },
  {
   "cell_type": "code",
   "execution_count": 6,
   "metadata": {},
   "outputs": [
    {
     "data": {
      "image/png": "[encoded data removed]",
      "text/plain": [
       "<Figure size 360x360 with 1 Axes>"
      ]
     },
     "metadata": {
      "needs_background": "light"
     },
     "output_type": "display_data"
    }
   ],
   "source": [
    "sns.lmplot(y='lead_time', x='adults', data=hoteldf)\n",
    "plt.title('Y: lead_time / X: # of adults')\n",
    "plt.show()"
   ]
  },
  {
   "cell_type": "code",
   "execution_count": 7,
   "metadata": {},
   "outputs": [
    {
     "data": {
      "text/html": [
       "<table class=\"simpletable\">\n",
       "<caption>OLS Regression Results</caption>\n",
       "<tr>\n",
       "  <th>Dep. Variable:</th>        <td>lead_time</td>    <th>  R-squared:         </th> <td>   0.025</td> \n",
       "</tr>\n",
       "<tr>\n",
       "  <th>Model:</th>                   <td>OLS</td>       <th>  Adj. R-squared:    </th> <td>   0.025</td> \n",
       "</tr>\n",
       "<tr>\n",
       "  <th>Method:</th>             <td>Least Squares</td>  <th>  F-statistic:       </th> <td>   95.89</td> \n",
       "</tr>\n",
       "<tr>\n",
       "  <th>Date:</th>             <td>Wed, 16 Feb 2022</td> <th>  Prob (F-statistic):</th> <td>1.98e-80</td> \n",
       "</tr>\n",
       "<tr>\n",
       "  <th>Time:</th>                 <td>05:43:14</td>     <th>  Log-Likelihood:    </th> <td> -72623.</td> \n",
       "</tr>\n",
       "<tr>\n",
       "  <th>No. Observations:</th>      <td> 11938</td>      <th>  AIC:               </th> <td>1.453e+05</td>\n",
       "</tr>\n",
       "<tr>\n",
       "  <th>Df Residuals:</th>          <td> 11933</td>      <th>  BIC:               </th> <td>1.453e+05</td>\n",
       "</tr>\n",
       "<tr>\n",
       "  <th>Df Model:</th>              <td>     4</td>      <th>                     </th>     <td> </td>    \n",
       "</tr>\n",
       "<tr>\n",
       "  <th>Covariance Type:</th>         <td>hc3</td>       <th>                     </th>     <td> </td>    \n",
       "</tr>\n",
       "</table>\n",
       "<table class=\"simpletable\">\n",
       "<tr>\n",
       "          <td></td>             <th>coef</th>     <th>std err</th>      <th>z</th>      <th>P>|z|</th>  <th>[0.025</th>    <th>0.975]</th>  \n",
       "</tr>\n",
       "<tr>\n",
       "  <th>Intercept</th>         <td>   72.9901</td> <td>    5.137</td> <td>   14.210</td> <td> 0.000</td> <td>   62.923</td> <td>   83.058</td>\n",
       "</tr>\n",
       "<tr>\n",
       "  <th>is_repeated_guest</th> <td>  -63.1900</td> <td>    4.684</td> <td>  -13.489</td> <td> 0.000</td> <td>  -72.371</td> <td>  -54.009</td>\n",
       "</tr>\n",
       "<tr>\n",
       "  <th>adults</th>            <td>   19.0309</td> <td>    2.710</td> <td>    7.023</td> <td> 0.000</td> <td>   13.719</td> <td>   24.342</td>\n",
       "</tr>\n",
       "<tr>\n",
       "  <th>children</th>          <td>  -15.3696</td> <td>    1.936</td> <td>   -7.937</td> <td> 0.000</td> <td>  -19.165</td> <td>  -11.574</td>\n",
       "</tr>\n",
       "<tr>\n",
       "  <th>babies</th>            <td>  -14.7418</td> <td>    8.867</td> <td>   -1.663</td> <td> 0.096</td> <td>  -32.120</td> <td>    2.636</td>\n",
       "</tr>\n",
       "</table>\n",
       "<table class=\"simpletable\">\n",
       "<tr>\n",
       "  <th>Omnibus:</th>       <td>2625.441</td> <th>  Durbin-Watson:     </th> <td>   2.000</td>\n",
       "</tr>\n",
       "<tr>\n",
       "  <th>Prob(Omnibus):</th>  <td> 0.000</td>  <th>  Jarque-Bera (JB):  </th> <td>5068.502</td>\n",
       "</tr>\n",
       "<tr>\n",
       "  <th>Skew:</th>           <td> 1.348</td>  <th>  Prob(JB):          </th> <td>    0.00</td>\n",
       "</tr>\n",
       "<tr>\n",
       "  <th>Kurtosis:</th>       <td> 4.710</td>  <th>  Cond. No.          </th> <td>    24.3</td>\n",
       "</tr>\n",
       "</table><br/><br/>Notes:<br/>[1] Standard Errors are heteroscedasticity robust (HC3)"
      ],
      "text/plain": [
       "<class 'statsmodels.iolib.summary.Summary'>\n",
       "\"\"\"\n",
       "                            OLS Regression Results                            \n",
       "==============================================================================\n",
       "Dep. Variable:              lead_time   R-squared:                       0.025\n",
       "Model:                            OLS   Adj. R-squared:                  0.025\n",
       "Method:                 Least Squares   F-statistic:                     95.89\n",
       "Date:                Wed, 16 Feb 2022   Prob (F-statistic):           1.98e-80\n",
       "Time:                        05:43:14   Log-Likelihood:                -72623.\n",
       "No. Observations:               11938   AIC:                         1.453e+05\n",
       "Df Residuals:                   11933   BIC:                         1.453e+05\n",
       "Df Model:                           4                                         \n",
       "Covariance Type:                  hc3                                         \n",
       "=====================================================================================\n",
       "                        coef    std err          z      P>|z|      [0.025      0.975]\n",
       "-------------------------------------------------------------------------------------\n",
       "Intercept            72.9901      5.137     14.210      0.000      62.923      83.058\n",
       "is_repeated_guest   -63.1900      4.684    -13.489      0.000     -72.371     -54.009\n",
       "adults               19.0309      2.710      7.023      0.000      13.719      24.342\n",
       "children            -15.3696      1.936     -7.937      0.000     -19.165     -11.574\n",
       "babies              -14.7418      8.867     -1.663      0.096     -32.120       2.636\n",
       "==============================================================================\n",
       "Omnibus:                     2625.441   Durbin-Watson:                   2.000\n",
       "Prob(Omnibus):                  0.000   Jarque-Bera (JB):             5068.502\n",
       "Skew:                           1.348   Prob(JB):                         0.00\n",
       "Kurtosis:                       4.710   Cond. No.                         24.3\n",
       "==============================================================================\n",
       "\n",
       "Notes:\n",
       "[1] Standard Errors are heteroscedasticity robust (HC3)\n",
       "\"\"\""
      ]
     },
     "execution_count": 7,
     "metadata": {},
     "output_type": "execute_result"
    }
   ],
   "source": [
    "# Heteroskedasticity Robust S.E.\n",
    "# .fit() 내부의 parameter Robust S.E. 할당\n",
    "model = sm.OLS.from_formula('lead_time~is_repeated_guest+adults+children+babies', \n",
    "                            data=hoteldf).fit(cov_type='hc3')\n",
    "model.summary()"
   ]
  },
  {
   "cell_type": "code",
   "execution_count": 8,
   "metadata": {},
   "outputs": [
    {
     "data": {
      "text/html": [
       "<table class=\"simpletable\">\n",
       "<caption>Robust linear Model Regression Results</caption>\n",
       "<tr>\n",
       "  <th>Dep. Variable:</th>      <td>lead_time</td>    <th>  No. Observations:  </th> <td> 11938</td>\n",
       "</tr>\n",
       "<tr>\n",
       "  <th>Model:</th>                 <td>RLM</td>       <th>  Df Residuals:      </th> <td> 11933</td>\n",
       "</tr>\n",
       "<tr>\n",
       "  <th>Method:</th>               <td>IRLS</td>       <th>  Df Model:          </th> <td>     4</td>\n",
       "</tr>\n",
       "<tr>\n",
       "  <th>Norm:</th>                <td>HuberT</td>      <th>                     </th>    <td> </td>  \n",
       "</tr>\n",
       "<tr>\n",
       "  <th>Scale Est.:</th>            <td>mad</td>       <th>                     </th>    <td> </td>  \n",
       "</tr>\n",
       "<tr>\n",
       "  <th>Cov Type:</th>              <td>H3</td>        <th>                     </th>    <td> </td>  \n",
       "</tr>\n",
       "<tr>\n",
       "  <th>Date:</th>           <td>Wed, 16 Feb 2022</td> <th>                     </th>    <td> </td>  \n",
       "</tr>\n",
       "<tr>\n",
       "  <th>Time:</th>               <td>05:43:14</td>     <th>                     </th>    <td> </td>  \n",
       "</tr>\n",
       "<tr>\n",
       "  <th>No. Iterations:</th>        <td>14</td>        <th>                     </th>    <td> </td>  \n",
       "</tr>\n",
       "</table>\n",
       "<table class=\"simpletable\">\n",
       "<tr>\n",
       "          <td></td>             <th>coef</th>     <th>std err</th>      <th>z</th>      <th>P>|z|</th>  <th>[0.025</th>    <th>0.975]</th>  \n",
       "</tr>\n",
       "<tr>\n",
       "  <th>Intercept</th>         <td>   59.6465</td> <td>    3.843</td> <td>   15.520</td> <td> 0.000</td> <td>   52.114</td> <td>   67.179</td>\n",
       "</tr>\n",
       "<tr>\n",
       "  <th>is_repeated_guest</th> <td>  -59.5369</td> <td>    5.143</td> <td>  -11.577</td> <td> 0.000</td> <td>  -69.616</td> <td>  -49.457</td>\n",
       "</tr>\n",
       "<tr>\n",
       "  <th>adults</th>            <td>   19.6564</td> <td>    2.013</td> <td>    9.766</td> <td> 0.000</td> <td>   15.711</td> <td>   23.601</td>\n",
       "</tr>\n",
       "<tr>\n",
       "  <th>children</th>          <td>  -10.6844</td> <td>    2.016</td> <td>   -5.299</td> <td> 0.000</td> <td>  -14.636</td> <td>   -6.733</td>\n",
       "</tr>\n",
       "<tr>\n",
       "  <th>babies</th>            <td>   -8.5478</td> <td>    9.042</td> <td>   -0.945</td> <td> 0.344</td> <td>  -26.269</td> <td>    9.174</td>\n",
       "</tr>\n",
       "</table><br/><br/>If the model instance has been used for another fit with different fit parameters, then the fit options might not be the correct ones anymore ."
      ],
      "text/plain": [
       "<class 'statsmodels.iolib.summary.Summary'>\n",
       "\"\"\"\n",
       "                    Robust linear Model Regression Results                    \n",
       "==============================================================================\n",
       "Dep. Variable:              lead_time   No. Observations:                11938\n",
       "Model:                            RLM   Df Residuals:                    11933\n",
       "Method:                          IRLS   Df Model:                            4\n",
       "Norm:                          HuberT                                         \n",
       "Scale Est.:                       mad                                         \n",
       "Cov Type:                          H3                                         \n",
       "Date:                Wed, 16 Feb 2022                                         \n",
       "Time:                        05:43:14                                         \n",
       "No. Iterations:                    14                                         \n",
       "=====================================================================================\n",
       "                        coef    std err          z      P>|z|      [0.025      0.975]\n",
       "-------------------------------------------------------------------------------------\n",
       "Intercept            59.6465      3.843     15.520      0.000      52.114      67.179\n",
       "is_repeated_guest   -59.5369      5.143    -11.577      0.000     -69.616     -49.457\n",
       "adults               19.6564      2.013      9.766      0.000      15.711      23.601\n",
       "children            -10.6844      2.016     -5.299      0.000     -14.636      -6.733\n",
       "babies               -8.5478      9.042     -0.945      0.344     -26.269       9.174\n",
       "=====================================================================================\n",
       "\n",
       "If the model instance has been used for another fit with different fit parameters, then the fit options might not be the correct ones anymore .\n",
       "\"\"\""
      ]
     },
     "execution_count": 8,
     "metadata": {},
     "output_type": "execute_result"
    }
   ],
   "source": [
    "# M-estimator for Outlier Robust Regression\n",
    "# OLS 메소드가 RLM으로 바뀌었습니다.\n",
    "# .fit()의 parameter가 cov_type에서 cov로 바뀌었습니다.\n",
    "model = sm.RLM.from_formula('lead_time~is_repeated_guest+adults+children+babies', \n",
    "                            data=hoteldf).fit(cov='h3')\n",
    "model.summary()"
   ]
  }
 ],
 "metadata": {
  "kernelspec": {
   "display_name": "Python 3",
   "language": "python",
   "name": "python3"
  },
  "language_info": {
   "codemirror_mode": {
    "name": "ipython",
    "version": 3
   },
   "file_extension": ".py",
   "mimetype": "text/x-python",
   "name": "python",
   "nbconvert_exporter": "python",
   "pygments_lexer": "ipython3",
   "version": "3.8.5"
  }
 },
 "nbformat": 4,
 "nbformat_minor": 4
}
