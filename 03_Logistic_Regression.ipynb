{
 "cells": [
  {
   "cell_type": "code",
   "execution_count": 1,
   "metadata": {},
   "outputs": [
    {
     "data": {
      "text/plain": [
       "<Figure size 432x288 with 0 Axes>"
      ]
     },
     "metadata": {},
     "output_type": "display_data"
    }
   ],
   "source": [
    "import numpy as np # 수치연산 관련 패키지\n",
    "import pandas as pd # DataFrame을 다루는 데이터 전처리 패키지\n",
    "from scipy import stats # statistics tools\n",
    "import statsmodels.api as sm # linear models\n",
    "import matplotlib.pyplot as plt # 기본 시각화 패키지\n",
    "import seaborn as sns # 고급(?) 시각화 패키지 - R의 ggplot 같은겁니다.\n",
    "\n",
    "# Seaborn 시각화 환경 세팅\n",
    "sns.set_theme(style='white',\n",
    "              rc = {'axes.unicode_minus': False,\n",
    "                    'axes.spines.top':False,\n",
    "                    'axes.spines.right':False,\n",
    "                    'font.family':'NanumGothic', #폰트이름 (ex. AppleGothic)\n",
    "                    'font.weight':'normal'})\n",
    "sns.despine(left=True, bottom=True)\n",
    "sns.set_palette('tab10')"
   ]
  },
  {
   "cell_type": "code",
   "execution_count": 2,
   "metadata": {},
   "outputs": [
    {
     "data": {
      "text/html": [
       "<div>\n",
       "<style scoped>\n",
       "    .dataframe tbody tr th:only-of-type {\n",
       "        vertical-align: middle;\n",
       "    }\n",
       "\n",
       "    .dataframe tbody tr th {\n",
       "        vertical-align: top;\n",
       "    }\n",
       "\n",
       "    .dataframe thead th {\n",
       "        text-align: right;\n",
       "    }\n",
       "</style>\n",
       "<table border=\"1\" class=\"dataframe\">\n",
       "  <thead>\n",
       "    <tr style=\"text-align: right;\">\n",
       "      <th></th>\n",
       "      <th>satisfaction_level</th>\n",
       "      <th>last_evaluation</th>\n",
       "      <th>number_project</th>\n",
       "      <th>average_monthly_hours</th>\n",
       "      <th>time_spend_company</th>\n",
       "      <th>work_accident</th>\n",
       "      <th>left</th>\n",
       "      <th>promotion_last_5years</th>\n",
       "      <th>department</th>\n",
       "      <th>salary</th>\n",
       "    </tr>\n",
       "  </thead>\n",
       "  <tbody>\n",
       "    <tr>\n",
       "      <th>0</th>\n",
       "      <td>0.38</td>\n",
       "      <td>0.53</td>\n",
       "      <td>2</td>\n",
       "      <td>157</td>\n",
       "      <td>3</td>\n",
       "      <td>0</td>\n",
       "      <td>1</td>\n",
       "      <td>0</td>\n",
       "      <td>sales</td>\n",
       "      <td>low</td>\n",
       "    </tr>\n",
       "    <tr>\n",
       "      <th>1</th>\n",
       "      <td>0.80</td>\n",
       "      <td>0.86</td>\n",
       "      <td>5</td>\n",
       "      <td>262</td>\n",
       "      <td>6</td>\n",
       "      <td>0</td>\n",
       "      <td>1</td>\n",
       "      <td>0</td>\n",
       "      <td>sales</td>\n",
       "      <td>medium</td>\n",
       "    </tr>\n",
       "    <tr>\n",
       "      <th>2</th>\n",
       "      <td>0.11</td>\n",
       "      <td>0.88</td>\n",
       "      <td>7</td>\n",
       "      <td>272</td>\n",
       "      <td>4</td>\n",
       "      <td>0</td>\n",
       "      <td>1</td>\n",
       "      <td>0</td>\n",
       "      <td>sales</td>\n",
       "      <td>medium</td>\n",
       "    </tr>\n",
       "    <tr>\n",
       "      <th>3</th>\n",
       "      <td>0.72</td>\n",
       "      <td>0.87</td>\n",
       "      <td>5</td>\n",
       "      <td>223</td>\n",
       "      <td>5</td>\n",
       "      <td>0</td>\n",
       "      <td>1</td>\n",
       "      <td>0</td>\n",
       "      <td>sales</td>\n",
       "      <td>low</td>\n",
       "    </tr>\n",
       "    <tr>\n",
       "      <th>4</th>\n",
       "      <td>0.37</td>\n",
       "      <td>0.52</td>\n",
       "      <td>2</td>\n",
       "      <td>159</td>\n",
       "      <td>3</td>\n",
       "      <td>0</td>\n",
       "      <td>1</td>\n",
       "      <td>0</td>\n",
       "      <td>sales</td>\n",
       "      <td>low</td>\n",
       "    </tr>\n",
       "  </tbody>\n",
       "</table>\n",
       "</div>"
      ],
      "text/plain": [
       "   satisfaction_level  last_evaluation  number_project  average_monthly_hours  \\\n",
       "0                0.38             0.53               2                    157   \n",
       "1                0.80             0.86               5                    262   \n",
       "2                0.11             0.88               7                    272   \n",
       "3                0.72             0.87               5                    223   \n",
       "4                0.37             0.52               2                    159   \n",
       "\n",
       "   time_spend_company  work_accident  left  promotion_last_5years department  \\\n",
       "0                   3              0     1                      0      sales   \n",
       "1                   6              0     1                      0      sales   \n",
       "2                   4              0     1                      0      sales   \n",
       "3                   5              0     1                      0      sales   \n",
       "4                   3              0     1                      0      sales   \n",
       "\n",
       "   salary  \n",
       "0     low  \n",
       "1  medium  \n",
       "2  medium  \n",
       "3     low  \n",
       "4     low  "
      ]
     },
     "execution_count": 2,
     "metadata": {},
     "output_type": "execute_result"
    }
   ],
   "source": [
    "hrdf = pd.read_csv('./data/L6_hr.csv')\n",
    "hrdf.columns = hrdf.columns.str.lower()\n",
    "hrdf = hrdf.rename({'average_montly_hours':'average_monthly_hours'}, axis=1)\n",
    "hrdf.head(5)"
   ]
  },
  {
   "cell_type": "code",
   "execution_count": 3,
   "metadata": {},
   "outputs": [
    {
     "data": {
      "image/png": "[encoded data removed]",
      "text/plain": [
       "<Figure size 432x288 with 1 Axes>"
      ]
     },
     "metadata": {},
     "output_type": "display_data"
    },
    {
     "data": {
      "image/png": "[encoded data removed]",
      "text/plain": [
       "<Figure size 432x288 with 1 Axes>"
      ]
     },
     "metadata": {},
     "output_type": "display_data"
    },
    {
     "data": {
      "image/png": "[encoded data removed]",
      "text/plain": [
       "<Figure size 432x288 with 1 Axes>"
      ]
     },
     "metadata": {},
     "output_type": "display_data"
    }
   ],
   "source": [
    "fig = sns.boxplot(y='satisfaction_level', x='left', data=hrdf)\n",
    "fig.set(title='Satisfaction Level')\n",
    "plt.show()\n",
    "\n",
    "fig = sns.boxplot(y='last_evaluation', x='left', data=hrdf)\n",
    "fig.set(title='Last Evaluation')\n",
    "plt.show()\n",
    "\n",
    "fig = sns.boxplot(y='average_monthly_hours', x='left', data=hrdf)\n",
    "fig.set(title='Avg. Monthly Hours')\n",
    "plt.show()"
   ]
  },
  {
   "cell_type": "code",
   "execution_count": 4,
   "metadata": {},
   "outputs": [
    {
     "data": {
      "text/html": [
       "<div>\n",
       "<style scoped>\n",
       "    .dataframe tbody tr th:only-of-type {\n",
       "        vertical-align: middle;\n",
       "    }\n",
       "\n",
       "    .dataframe tbody tr th {\n",
       "        vertical-align: top;\n",
       "    }\n",
       "\n",
       "    .dataframe thead th {\n",
       "        text-align: right;\n",
       "    }\n",
       "</style>\n",
       "<table border=\"1\" class=\"dataframe\">\n",
       "  <thead>\n",
       "    <tr style=\"text-align: right;\">\n",
       "      <th></th>\n",
       "      <th>number_project</th>\n",
       "      <th>left</th>\n",
       "    </tr>\n",
       "  </thead>\n",
       "  <tbody>\n",
       "    <tr>\n",
       "      <th>0</th>\n",
       "      <td>2</td>\n",
       "      <td>0.656198</td>\n",
       "    </tr>\n",
       "    <tr>\n",
       "      <th>1</th>\n",
       "      <td>3</td>\n",
       "      <td>0.017756</td>\n",
       "    </tr>\n",
       "    <tr>\n",
       "      <th>2</th>\n",
       "      <td>4</td>\n",
       "      <td>0.093700</td>\n",
       "    </tr>\n",
       "    <tr>\n",
       "      <th>3</th>\n",
       "      <td>5</td>\n",
       "      <td>0.221659</td>\n",
       "    </tr>\n",
       "    <tr>\n",
       "      <th>4</th>\n",
       "      <td>6</td>\n",
       "      <td>0.557922</td>\n",
       "    </tr>\n",
       "    <tr>\n",
       "      <th>5</th>\n",
       "      <td>7</td>\n",
       "      <td>1.000000</td>\n",
       "    </tr>\n",
       "  </tbody>\n",
       "</table>\n",
       "</div>"
      ],
      "text/plain": [
       "   number_project      left\n",
       "0               2  0.656198\n",
       "1               3  0.017756\n",
       "2               4  0.093700\n",
       "3               5  0.221659\n",
       "4               6  0.557922\n",
       "5               7  1.000000"
      ]
     },
     "execution_count": 4,
     "metadata": {},
     "output_type": "execute_result"
    }
   ],
   "source": [
    "hrdf.groupby('number_project').mean()['left'].reset_index()"
   ]
  },
  {
   "cell_type": "code",
   "execution_count": 5,
   "metadata": {},
   "outputs": [
    {
     "data": {
      "text/html": [
       "<div>\n",
       "<style scoped>\n",
       "    .dataframe tbody tr th:only-of-type {\n",
       "        vertical-align: middle;\n",
       "    }\n",
       "\n",
       "    .dataframe tbody tr th {\n",
       "        vertical-align: top;\n",
       "    }\n",
       "\n",
       "    .dataframe thead th {\n",
       "        text-align: right;\n",
       "    }\n",
       "</style>\n",
       "<table border=\"1\" class=\"dataframe\">\n",
       "  <thead>\n",
       "    <tr style=\"text-align: right;\">\n",
       "      <th></th>\n",
       "      <th>time_spend_company</th>\n",
       "      <th>left</th>\n",
       "    </tr>\n",
       "  </thead>\n",
       "  <tbody>\n",
       "    <tr>\n",
       "      <th>0</th>\n",
       "      <td>2</td>\n",
       "      <td>0.016338</td>\n",
       "    </tr>\n",
       "    <tr>\n",
       "      <th>1</th>\n",
       "      <td>3</td>\n",
       "      <td>0.246159</td>\n",
       "    </tr>\n",
       "    <tr>\n",
       "      <th>2</th>\n",
       "      <td>4</td>\n",
       "      <td>0.348064</td>\n",
       "    </tr>\n",
       "    <tr>\n",
       "      <th>3</th>\n",
       "      <td>5</td>\n",
       "      <td>0.565513</td>\n",
       "    </tr>\n",
       "    <tr>\n",
       "      <th>4</th>\n",
       "      <td>6</td>\n",
       "      <td>0.291086</td>\n",
       "    </tr>\n",
       "    <tr>\n",
       "      <th>5</th>\n",
       "      <td>7</td>\n",
       "      <td>0.000000</td>\n",
       "    </tr>\n",
       "    <tr>\n",
       "      <th>6</th>\n",
       "      <td>8</td>\n",
       "      <td>0.000000</td>\n",
       "    </tr>\n",
       "    <tr>\n",
       "      <th>7</th>\n",
       "      <td>10</td>\n",
       "      <td>0.000000</td>\n",
       "    </tr>\n",
       "  </tbody>\n",
       "</table>\n",
       "</div>"
      ],
      "text/plain": [
       "   time_spend_company      left\n",
       "0                   2  0.016338\n",
       "1                   3  0.246159\n",
       "2                   4  0.348064\n",
       "3                   5  0.565513\n",
       "4                   6  0.291086\n",
       "5                   7  0.000000\n",
       "6                   8  0.000000\n",
       "7                  10  0.000000"
      ]
     },
     "execution_count": 5,
     "metadata": {},
     "output_type": "execute_result"
    }
   ],
   "source": [
    "hrdf.groupby('time_spend_company').mean()['left'].reset_index()"
   ]
  },
  {
   "cell_type": "code",
   "execution_count": 6,
   "metadata": {},
   "outputs": [
    {
     "data": {
      "image/png": "[encoded data removed]",
      "text/plain": [
       "<Figure size 432x288 with 1 Axes>"
      ]
     },
     "metadata": {},
     "output_type": "display_data"
    }
   ],
   "source": [
    "fig = sns.barplot(y='left', x='department', data=hrdf)\n",
    "plt.xticks(rotation=90)\n",
    "plt.show()"
   ]
  },
  {
   "cell_type": "code",
   "execution_count": 7,
   "metadata": {},
   "outputs": [
    {
     "name": "stdout",
     "output_type": "stream",
     "text": [
      "Optimization terminated successfully.\n",
      "         Current function value: 0.456097\n",
      "         Iterations 7\n"
     ]
    },
    {
     "data": {
      "text/html": [
       "<table class=\"simpletable\">\n",
       "<caption>Logit Regression Results</caption>\n",
       "<tr>\n",
       "  <th>Dep. Variable:</th>         <td>left</td>       <th>  No. Observations:  </th>  <td> 14999</td> \n",
       "</tr>\n",
       "<tr>\n",
       "  <th>Model:</th>                 <td>Logit</td>      <th>  Df Residuals:      </th>  <td> 14984</td> \n",
       "</tr>\n",
       "<tr>\n",
       "  <th>Method:</th>                 <td>MLE</td>       <th>  Df Model:          </th>  <td>    14</td> \n",
       "</tr>\n",
       "<tr>\n",
       "  <th>Date:</th>            <td>Mon, 21 Mar 2022</td> <th>  Pseudo R-squ.:     </th>  <td>0.1690</td> \n",
       "</tr>\n",
       "<tr>\n",
       "  <th>Time:</th>                <td>06:45:37</td>     <th>  Log-Likelihood:    </th> <td> -6841.0</td>\n",
       "</tr>\n",
       "<tr>\n",
       "  <th>converged:</th>             <td>True</td>       <th>  LL-Null:           </th> <td> -8232.3</td>\n",
       "</tr>\n",
       "<tr>\n",
       "  <th>Covariance Type:</th>        <td>hc3</td>       <th>  LLR p-value:       </th>  <td> 0.000</td> \n",
       "</tr>\n",
       "</table>\n",
       "<table class=\"simpletable\">\n",
       "<tr>\n",
       "                <td></td>                  <th>coef</th>     <th>std err</th>      <th>z</th>      <th>P>|z|</th>  <th>[0.025</th>    <th>0.975]</th>  \n",
       "</tr>\n",
       "<tr>\n",
       "  <th>Intercept</th>                    <td>   -1.0905</td> <td>    0.184</td> <td>   -5.932</td> <td> 0.000</td> <td>   -1.451</td> <td>   -0.730</td>\n",
       "</tr>\n",
       "<tr>\n",
       "  <th>salary[T.low]</th>                <td>    1.7634</td> <td>    0.125</td> <td>   14.146</td> <td> 0.000</td> <td>    1.519</td> <td>    2.008</td>\n",
       "</tr>\n",
       "<tr>\n",
       "  <th>salary[T.medium]</th>             <td>    1.2826</td> <td>    0.125</td> <td>   10.234</td> <td> 0.000</td> <td>    1.037</td> <td>    1.528</td>\n",
       "</tr>\n",
       "<tr>\n",
       "  <th>C(department)[T.RandD]</th>       <td>   -0.4783</td> <td>    0.131</td> <td>   -3.639</td> <td> 0.000</td> <td>   -0.736</td> <td>   -0.221</td>\n",
       "</tr>\n",
       "<tr>\n",
       "  <th>C(department)[T.accounting]</th>  <td>    0.1816</td> <td>    0.117</td> <td>    1.553</td> <td> 0.121</td> <td>   -0.048</td> <td>    0.411</td>\n",
       "</tr>\n",
       "<tr>\n",
       "  <th>C(department)[T.hr]</th>          <td>    0.4009</td> <td>    0.117</td> <td>    3.440</td> <td> 0.001</td> <td>    0.172</td> <td>    0.629</td>\n",
       "</tr>\n",
       "<tr>\n",
       "  <th>C(department)[T.management]</th>  <td>   -0.1580</td> <td>    0.142</td> <td>   -1.114</td> <td> 0.265</td> <td>   -0.436</td> <td>    0.120</td>\n",
       "</tr>\n",
       "<tr>\n",
       "  <th>C(department)[T.marketing]</th>   <td>    0.1915</td> <td>    0.116</td> <td>    1.645</td> <td> 0.100</td> <td>   -0.037</td> <td>    0.420</td>\n",
       "</tr>\n",
       "<tr>\n",
       "  <th>C(department)[T.product_mng]</th> <td>    0.0130</td> <td>    0.118</td> <td>    0.110</td> <td> 0.912</td> <td>   -0.218</td> <td>    0.244</td>\n",
       "</tr>\n",
       "<tr>\n",
       "  <th>C(department)[T.sales]</th>       <td>    0.1431</td> <td>    0.084</td> <td>    1.706</td> <td> 0.088</td> <td>   -0.021</td> <td>    0.308</td>\n",
       "</tr>\n",
       "<tr>\n",
       "  <th>C(department)[T.support]</th>     <td>    0.1752</td> <td>    0.091</td> <td>    1.918</td> <td> 0.055</td> <td>   -0.004</td> <td>    0.354</td>\n",
       "</tr>\n",
       "<tr>\n",
       "  <th>C(department)[T.technical]</th>   <td>    0.1839</td> <td>    0.089</td> <td>    2.070</td> <td> 0.038</td> <td>    0.010</td> <td>    0.358</td>\n",
       "</tr>\n",
       "<tr>\n",
       "  <th>satisfaction_level</th>           <td>   -3.8048</td> <td>    0.093</td> <td>  -41.099</td> <td> 0.000</td> <td>   -3.986</td> <td>   -3.623</td>\n",
       "</tr>\n",
       "<tr>\n",
       "  <th>average_monthly_hours</th>        <td>    0.0024</td> <td>    0.000</td> <td>    5.682</td> <td> 0.000</td> <td>    0.002</td> <td>    0.003</td>\n",
       "</tr>\n",
       "<tr>\n",
       "  <th>promotion_last_5years</th>        <td>   -1.2658</td> <td>    0.242</td> <td>   -5.237</td> <td> 0.000</td> <td>   -1.739</td> <td>   -0.792</td>\n",
       "</tr>\n",
       "</table>"
      ],
      "text/plain": [
       "<class 'statsmodels.iolib.summary.Summary'>\n",
       "\"\"\"\n",
       "                           Logit Regression Results                           \n",
       "==============================================================================\n",
       "Dep. Variable:                   left   No. Observations:                14999\n",
       "Model:                          Logit   Df Residuals:                    14984\n",
       "Method:                           MLE   Df Model:                           14\n",
       "Date:                Mon, 21 Mar 2022   Pseudo R-squ.:                  0.1690\n",
       "Time:                        06:45:37   Log-Likelihood:                -6841.0\n",
       "converged:                       True   LL-Null:                       -8232.3\n",
       "Covariance Type:                  hc3   LLR p-value:                     0.000\n",
       "================================================================================================\n",
       "                                   coef    std err          z      P>|z|      [0.025      0.975]\n",
       "------------------------------------------------------------------------------------------------\n",
       "Intercept                       -1.0905      0.184     -5.932      0.000      -1.451      -0.730\n",
       "salary[T.low]                    1.7634      0.125     14.146      0.000       1.519       2.008\n",
       "salary[T.medium]                 1.2826      0.125     10.234      0.000       1.037       1.528\n",
       "C(department)[T.RandD]          -0.4783      0.131     -3.639      0.000      -0.736      -0.221\n",
       "C(department)[T.accounting]      0.1816      0.117      1.553      0.121      -0.048       0.411\n",
       "C(department)[T.hr]              0.4009      0.117      3.440      0.001       0.172       0.629\n",
       "C(department)[T.management]     -0.1580      0.142     -1.114      0.265      -0.436       0.120\n",
       "C(department)[T.marketing]       0.1915      0.116      1.645      0.100      -0.037       0.420\n",
       "C(department)[T.product_mng]     0.0130      0.118      0.110      0.912      -0.218       0.244\n",
       "C(department)[T.sales]           0.1431      0.084      1.706      0.088      -0.021       0.308\n",
       "C(department)[T.support]         0.1752      0.091      1.918      0.055      -0.004       0.354\n",
       "C(department)[T.technical]       0.1839      0.089      2.070      0.038       0.010       0.358\n",
       "satisfaction_level              -3.8048      0.093    -41.099      0.000      -3.986      -3.623\n",
       "average_monthly_hours            0.0024      0.000      5.682      0.000       0.002       0.003\n",
       "promotion_last_5years           -1.2658      0.242     -5.237      0.000      -1.739      -0.792\n",
       "================================================================================================\n",
       "\"\"\""
      ]
     },
     "execution_count": 7,
     "metadata": {},
     "output_type": "execute_result"
    }
   ],
   "source": [
    "fullmodel = sm.Logit.from_formula(\n",
    "    'left~satisfaction_level+average_monthly_hours+promotion_last_5years+salary+C(department)',\n",
    "    data=hrdf).fit(cov_type='hc3')\n",
    "fullmodel.summary()"
   ]
  },
  {
   "cell_type": "code",
   "execution_count": 8,
   "metadata": {},
   "outputs": [
    {
     "name": "stdout",
     "output_type": "stream",
     "text": [
      "Optimization terminated successfully.\n",
      "         Current function value: 0.472273\n",
      "         Iterations 6\n",
      "Optimization terminated successfully.\n",
      "         Current function value: 0.470286\n",
      "         Iterations 7\n",
      "Optimization terminated successfully.\n",
      "         Current function value: 0.458001\n",
      "         Iterations 7\n"
     ]
    },
    {
     "data": {
      "text/html": [
       "<table style=\"text-align:center\"><tr><td colspan=\"4\" style=\"border-bottom: 1px solid black\"></td></tr><tr><td style=\"text-align:left\"></td><td colspan=\"3\"><em>Dependent variable:left</em></td></tr><tr><td style=\"text-align:left\"></td><tr><td style=\"text-align:left\"></td><td>(1)</td><td>(2)</td><td>(3)</td></tr><tr><td colspan=\"4\" style=\"border-bottom: 1px solid black\"></td></tr><tr><td style=\"text-align:left\">Intercept</td><td>0.513<sup>***</sup></td><td>0.531<sup>***</sup></td><td>-0.992<sup>***</sup></td></tr><tr><td style=\"text-align:left\"></td><td>(0.115)</td><td>(0.115)</td><td>(0.167)</td></tr><tr><td style=\"text-align:left\">average_monthly_hours</td><td>0.002<sup>***</sup></td><td>0.002<sup>***</sup></td><td>0.002<sup>***</sup></td></tr><tr><td style=\"text-align:left\"></td><td>(0.000)</td><td>(0.000)</td><td>(0.000)</td></tr><tr><td style=\"text-align:left\">promotion_last_5years</td><td></td><td>-1.544<sup>***</sup></td><td>-1.301<sup>***</sup></td></tr><tr><td style=\"text-align:left\"></td><td></td><td>(0.244)</td><td>(0.241)</td></tr><tr><td style=\"text-align:left\">salary[T.low]</td><td></td><td></td><td>1.793<sup>***</sup></td></tr><tr><td style=\"text-align:left\"></td><td></td><td></td><td>(0.123)</td></tr><tr><td style=\"text-align:left\">salary[T.medium]</td><td></td><td></td><td>1.310<sup>***</sup></td></tr><tr><td style=\"text-align:left\"></td><td></td><td></td><td>(0.124)</td></tr><tr><td style=\"text-align:left\">satisfaction_level</td><td>-3.796<sup>***</sup></td><td>-3.789<sup>***</sup></td><td>-3.799<sup>***</sup></td></tr><tr><td style=\"text-align:left\"></td><td>(0.092)</td><td>(0.092)</td><td>(0.092)</td></tr><td colspan=\"4\" style=\"border-bottom: 1px solid black\"></td></tr><tr><td style=\"text-align: left\">Observations</td><td>14,999</td><td>14,999</td><td>14,999</td></tr><tr><td style=\"text-align: left\">R<sup>2</sup></td><td></td><td></td><td></td></tr><tr><td style=\"text-align: left\">Adjusted R<sup>2</sup></td><td></td><td></td><td></td></tr><tr><td style=\"text-align: left\">Residual Std. Error</td><td>1.000 (df=14996)</td><td>1.000 (df=14995)</td><td>1.000 (df=14993)</td></tr><tr><td style=\"text-align: left\">F Statistic</td><td><sup></sup> (df=2; 14996)</td><td><sup></sup> (df=3; 14995)</td><td><sup></sup> (df=5; 14993)</td></tr><tr><td colspan=\"4\" style=\"border-bottom: 1px solid black\"></td></tr><tr><td style=\"text-align: left\">Note:</td>\n",
       " <td colspan=\"3\" style=\"text-align: right\">\n",
       "  <sup>*</sup>p&lt;0.1;\n",
       "  <sup>**</sup>p&lt;0.05;\n",
       "  <sup>***</sup>p&lt;0.01\n",
       " </td></tr></table>"
      ],
      "text/plain": [
       "<stargazer.stargazer.Stargazer at 0x7f515c58f430>"
      ]
     },
     "execution_count": 8,
     "metadata": {},
     "output_type": "execute_result"
    }
   ],
   "source": [
    "from stargazer.stargazer import Stargazer\n",
    "\n",
    "m01 = sm.Logit.from_formula(\n",
    "    'left~satisfaction_level+average_monthly_hours',\n",
    "    data=hrdf).fit(cov_type='hc3')\n",
    "m02 = sm.Logit.from_formula(\n",
    "    'left~satisfaction_level+average_monthly_hours+promotion_last_5years',\n",
    "    data=hrdf).fit(cov_type='hc3')\n",
    "m03 = sm.Logit.from_formula(\n",
    "    'left~satisfaction_level+average_monthly_hours+promotion_last_5years+salary',\n",
    "    data=hrdf).fit(cov_type='hc3')\n",
    "\n",
    "Stargazer([m01, m02, m03])"
   ]
  },
  {
   "cell_type": "code",
   "execution_count": 9,
   "metadata": {},
   "outputs": [],
   "source": [
    "from sklearn.model_selection import train_test_split\n",
    "traindf, testdf = train_test_split(hrdf, test_size=0.3, random_state=0)"
   ]
  },
  {
   "cell_type": "code",
   "execution_count": 10,
   "metadata": {},
   "outputs": [
    {
     "name": "stdout",
     "output_type": "stream",
     "text": [
      "Optimization terminated successfully.\n",
      "         Current function value: 0.458697\n",
      "         Iterations 7\n"
     ]
    }
   ],
   "source": [
    "predmodel = sm.Logit.from_formula(\n",
    "    'left~satisfaction_level+average_monthly_hours+promotion_last_5years+salary+C(department)',\n",
    "    data=traindf).fit(cov_type='hc3')"
   ]
  },
  {
   "cell_type": "code",
   "execution_count": 11,
   "metadata": {},
   "outputs": [
    {
     "data": {
      "text/plain": [
       "1670     0.238541\n",
       "13378    0.192085\n",
       "10233    0.108606\n",
       "4719     0.070267\n",
       "7003     0.093484\n",
       "           ...   \n",
       "11275    0.104334\n",
       "3828     0.079716\n",
       "4645     0.083941\n",
       "6069     0.273620\n",
       "2506     0.605307\n",
       "Length: 4500, dtype: float64"
      ]
     },
     "execution_count": 11,
     "metadata": {},
     "output_type": "execute_result"
    }
   ],
   "source": [
    "predmodel.predict(testdf)"
   ]
  },
  {
   "cell_type": "code",
   "execution_count": 12,
   "metadata": {},
   "outputs": [
    {
     "data": {
      "text/plain": [
       "1670     0\n",
       "13378    0\n",
       "10233    0\n",
       "4719     0\n",
       "7003     0\n",
       "        ..\n",
       "11275    0\n",
       "3828     0\n",
       "4645     0\n",
       "6069     0\n",
       "2506     1\n",
       "Length: 4500, dtype: int64"
      ]
     },
     "execution_count": 12,
     "metadata": {},
     "output_type": "execute_result"
    }
   ],
   "source": [
    "predlist = (predmodel.predict(testdf)>.5).astype(int)\n",
    "predlist"
   ]
  },
  {
   "cell_type": "code",
   "execution_count": 13,
   "metadata": {},
   "outputs": [
    {
     "data": {
      "text/plain": [
       "0    0.761917\n",
       "1    0.238083\n",
       "Name: left, dtype: float64"
      ]
     },
     "execution_count": 13,
     "metadata": {},
     "output_type": "execute_result"
    }
   ],
   "source": [
    "hrdf['left'].value_counts(normalize=True)"
   ]
  },
  {
   "cell_type": "code",
   "execution_count": 14,
   "metadata": {},
   "outputs": [
    {
     "name": "stdout",
     "output_type": "stream",
     "text": [
      "0.7771111111111111\n",
      "0.34657980456026055\n"
     ]
    }
   ],
   "source": [
    "from sklearn.metrics import accuracy_score, f1_score, confusion_matrix\n",
    "\n",
    "# Test Set Accuracy\n",
    "print(accuracy_score(testdf['left'], predlist))\n",
    "\n",
    "# Test Set F1-Score\n",
    "print(f1_score(testdf['left'], predlist))"
   ]
  },
  {
   "cell_type": "code",
   "execution_count": 15,
   "metadata": {},
   "outputs": [
    {
     "data": {
      "text/plain": [
       "array([[3231,  231],\n",
       "       [ 772,  266]])"
      ]
     },
     "execution_count": 15,
     "metadata": {},
     "output_type": "execute_result"
    }
   ],
   "source": [
    "confusion_matrix(testdf['left'], predlist)"
   ]
  }
 ],
 "metadata": {
  "kernelspec": {
   "display_name": "Python 3",
   "language": "python",
   "name": "python3"
  },
  "language_info": {
   "codemirror_mode": {
    "name": "ipython",
    "version": 3
   },
   "file_extension": ".py",
   "mimetype": "text/x-python",
   "name": "python",
   "nbconvert_exporter": "python",
   "pygments_lexer": "ipython3",
   "version": "3.8.5"
  }
 },
 "nbformat": 4,
 "nbformat_minor": 4
}
